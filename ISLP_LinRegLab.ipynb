{
  "nbformat": 4,
  "nbformat_minor": 0,
  "metadata": {
    "colab": {
      "provenance": [],
      "authorship_tag": "ABX9TyPMP/vERnqZLVJYLm9glXpC",
      "include_colab_link": true
    },
    "kernelspec": {
      "name": "python3",
      "display_name": "Python 3"
    },
    "language_info": {
      "name": "python"
    }
  },
  "cells": [
    {
      "cell_type": "markdown",
      "metadata": {
        "id": "view-in-github",
        "colab_type": "text"
      },
      "source": [
        "<a href=\"https://colab.research.google.com/github/sowmyaiyer/python_ds_adventures/blob/main/ISLP_LinRegLab.ipynb\" target=\"_parent\"><img src=\"https://colab.research.google.com/assets/colab-badge.svg\" alt=\"Open In Colab\"/></a>"
      ]
    },
    {
      "cell_type": "code",
      "execution_count": 2,
      "metadata": {
        "id": "UOVujMo2A4Yd"
      },
      "outputs": [],
      "source": [
        "#!pip install ISLP\n",
        "import numpy as np\n",
        "import pandas as pd\n",
        "import matplotlib as mb\n",
        "\n",
        "import statsmodels as sm\n",
        "\n",
        "\n",
        "\n"
      ]
    },
    {
      "cell_type": "code",
      "source": [
        "#### Chapter 2.4 exercises\n",
        "\n",
        "# 7. KNN classifier\n",
        "def euclidean(df, vec2) :\n",
        "  if (df.shape[1]!= len(vec2)) :\n",
        "    raise Exception(\"Inputs have to be the same length\")\n",
        "    return\n",
        "  print (\"nrows is \", df.shape[0])\n",
        "  sum = np.zeros(df.shape[0], dtype = \"float64\")\n",
        "  for i in range(df.shape[0]) :\n",
        "    sum[i] = np.sqrt(\n",
        "        np.sum(\n",
        "            np.square(\n",
        "                    np.subtract(df.iloc[i], vec2)\n",
        "                    )\n",
        "            )\n",
        "        )\n",
        "  return sum\n",
        "\n",
        "\n",
        "#print(\"euclidean distance = \",  euclidean([2,1,0,1,5],[1,1,0,0,0.1]))\n",
        "\n",
        "\n",
        "\n",
        "import numpy as np\n",
        "df = pd.DataFrame({'Obs': ['Obs' + str(n) for n in range(6)],\n",
        "                   'X1' : [0,2,0,0,-1,1],\n",
        "                   'X2': [3,0,1,1,3,1],\n",
        "                   'X3': [0,0,3,2,2,1],\n",
        "                   'Y' : ['Red','Red','Red','Green','Green','Red']})\n",
        "\n",
        "\n",
        "\n",
        "print(\"df is \", df)\n",
        "df2 = df.set_index('Obs')\n",
        "df2_sub = df2.iloc[0:5, 0:3]\n",
        "\n",
        "print(\"df2_sub is \\n\", df2_sub)\n",
        "\n",
        "k = 3\n",
        "results_ind = np.argsort(euclidean(df2_sub, vec2 = [0,0,0]),)[range(k)]\n",
        "results = np.sort(euclidean(df2_sub, vec2 = [1,1,1]),)[range(k)]\n",
        "\n",
        "\n",
        "print(\"results_ind are \\n\", results_ind)\n",
        "print(\"results are \\n\", results)\n",
        "classes = df.loc[results_ind,'Y']\n",
        "\n",
        "tabled = pd.crosstab(classes, 'Y')\n",
        "print(\"wtf is tabled \", np.argmax(tabled.Y))\n",
        "tabled.index[np.argmax(tabled.Y)]\n",
        "#tabled.columns\n",
        "#tabled\n",
        "\n"
      ],
      "metadata": {
        "colab": {
          "base_uri": "https://localhost:8080/",
          "height": 409
        },
        "id": "K5WHS6paIJ0I",
        "outputId": "fced3ceb-2b95-4ae0-c796-a81afa67580b"
      },
      "execution_count": 3,
      "outputs": [
        {
          "output_type": "stream",
          "name": "stdout",
          "text": [
            "df is      Obs  X1  X2  X3      Y\n",
            "0  Obs0   0   3   0    Red\n",
            "1  Obs1   2   0   0    Red\n",
            "2  Obs2   0   1   3    Red\n",
            "3  Obs3   0   1   2  Green\n",
            "4  Obs4  -1   3   2  Green\n",
            "5  Obs5   1   1   1    Red\n",
            "df2_sub is \n",
            "       X1  X2  X3\n",
            "Obs             \n",
            "Obs0   0   3   0\n",
            "Obs1   2   0   0\n",
            "Obs2   0   1   3\n",
            "Obs3   0   1   2\n",
            "Obs4  -1   3   2\n",
            "nrows is  5\n",
            "nrows is  5\n",
            "results_ind are \n",
            " [1 3 0]\n",
            "results are \n",
            " [1.41421356 1.73205081 2.23606798]\n",
            "wtf is tabled  1\n"
          ]
        },
        {
          "output_type": "execute_result",
          "data": {
            "text/plain": [
              "'Red'"
            ],
            "application/vnd.google.colaboratory.intrinsic+json": {
              "type": "string"
            }
          },
          "metadata": {},
          "execution_count": 3
        }
      ]
    },
    {
      "cell_type": "code",
      "source": [
        "#### 2.4 ISLP exercise KNN classifier proper\n",
        "# euclid function gets euclidean distance between each row of a dataframe and vec2\n",
        "def euclid(df, vec2) :\n",
        "  sum = np.zeros(df.shape[0], dtype = \"float64\")\n",
        "  for i in range(df.shape[0]) :\n",
        "    sum[i] = np.sqrt(\n",
        "        np.sum(\n",
        "            np.square(\n",
        "                np.subtract([df.iloc[i]], vec2))\n",
        "          ))\n",
        "\n",
        "  return(sum)\n",
        "\n",
        "\n",
        "test = pd.DataFrame([[1,1,1],[3,3,3]])\n",
        "#test.iloc[1]\n",
        "# just testing with toy example\n",
        "print(np.subtract([test.iloc[i] for i in range(test.shape[0])], [0,0,0]))\n",
        "print(euclid(test, [0,0,0]))\n",
        "\n",
        "# create a matrix of 33 rows and 3 columns, from std normal dist\n",
        "rng = np.random.default_rng()\n",
        "mat_random = pd.DataFrame(rng.normal(size=99, loc=0, scale=1).reshape(33,3))\n",
        "mat_random.columns = ['X' + str(n) for n in range(1,4)]\n",
        "mat_random.columns\n",
        "print(\"starting matrix is \\n\", mat_random)\n",
        "mat_random['Obs'] = ['Obs' + str(n) for n in range(1,34)]\n",
        "mat_random = mat_random.set_index('Obs')\n",
        "label_rep = np.repeat(['Red','Green','Green'],repeats = 11)\n",
        "label_rep\n",
        "rng.shuffle(label_rep)\n",
        "\n",
        "\n",
        "mat_random['label'] = label_rep\n",
        "\n",
        "#label_random = np.repeat(['Red','Green'],repeats=10)\n",
        "\n",
        "mat_random = pd.DataFrame(mat_random)\n",
        "vec2 = [-1,1,0]\n",
        "dist_results = euclid(mat_random.iloc[:,[0,1,2]], vec2)\n",
        "dist_results_indexes_sorted = np.argsort(dist_results)\n",
        "\n",
        "k = 5\n",
        "top_k_labels = mat_random.iloc[dist_results_indexes_sorted[range(k)]]['label']\n",
        "#closest_k_labels = mat_random[dist_results_indexes_sorted, 'label']\n",
        "tab = pd.crosstab(top_k_labels, columns=0)\n",
        "tab['prob'] = tab[0]/np.sum(tab[0])\n",
        "print(dist_results)\n",
        "print(tab)\n",
        "print(\"For k = \", k, \" assignment of \", vec2, \"is\" , tab.index[np.argmax(tab['prob'])], \"with a prob of \", np.max(tab['prob']))\n",
        "np.sum(mat_random['label'] == 'Red')\n",
        "np.sum(mat_random['label'] == 'Green')"
      ],
      "metadata": {
        "id": "mkPbRa4lIlBv"
      },
      "execution_count": null,
      "outputs": []
    },
    {
      "cell_type": "code",
      "source": [
        "#### 3.6 Lab\n",
        "#!pip install ISLP\n",
        "\n",
        "import numpy as np\n",
        "import pandas as pd\n",
        "import matplotlib as mb\n",
        "\n",
        "import statsmodels as sm\n",
        "import sklearn\n",
        "\n",
        "from ISLP import load_data\n",
        "from ISLP.models import ModelSpec as MS\n",
        "from ISLP.models import summarize\n",
        "from ISLP.models import poly\n",
        "\n",
        "Boston = load_data(\"Boston\")\n",
        "\n",
        "\n",
        "X = pd.DataFrame({'intercept': np.ones(Boston.shape[0]), 'lstat': Boston['lstat']})\n",
        "y = Boston['medv']\n",
        "\n",
        "model = sm.api.OLS(y, X)\n",
        "results = model.fit()\n",
        "\n",
        "sum_results = results.summary().tables[1]\n",
        "\n",
        "df = pd.DataFrame(sum_results)\n",
        "df.columns = df.iloc[0]\n",
        "df = df.iloc[1:]\n",
        "\n",
        "\n",
        "stsc = sklearn.preprocessing.StandardScaler()\n",
        "\n",
        "\n",
        "\n",
        "test_indices = np.random.choice(Boston.shape[0], replace=False, size=20)\n",
        "train_indices = np.setdiff1d(np.array(Boston.index),test_indices)\n",
        "train = Boston.iloc[train_indices]\n",
        "test = Boston.iloc[test_indices]\n",
        "print(np.all(test_indices not in train_indices))\n",
        "print(\"train\", train_indices)\n",
        "print(\"test\", test_indices)\n",
        "\n",
        "\n",
        "train_fit = stsc.fit_transform(train[['lstat','medv']])\n",
        "test_transform = pd.DataFrame(stsc.transform(test[['lstat','medv']]))\n",
        "\n",
        "\n",
        "print(train.shape)\n",
        "print(Boston.shape)\n",
        "test['lstat']\n",
        "#X = pd.DataFrame({'intercept': np.ones(len(train_fit)), 'lstat': train_fit.loc['lstat']})\n",
        "#y = train_fit['medv']\n"
      ],
      "metadata": {
        "id": "5aY2L0qIhybC",
        "outputId": "bba7bf6f-9cfe-4aa9-cd89-c390652981d2",
        "colab": {
          "base_uri": "https://localhost:8080/"
        }
      },
      "execution_count": 64,
      "outputs": [
        {
          "output_type": "stream",
          "name": "stdout",
          "text": [
            "[119 403 256 486 484 460 410 316 152 502 130 384 439 274 160  12 190 496\n",
            " 483 262]\n",
            "True\n",
            "train [  0   1   2   3   4   5   6   7   8   9  10  11  13  14  15  16  17  18\n",
            "  19  20  21  22  23  24  25  26  27  28  29  30  31  32  33  34  35  36\n",
            "  37  38  39  40  41  42  43  44  45  46  47  48  49  50  51  52  53  54\n",
            "  55  56  57  58  59  60  61  62  63  64  65  66  67  68  69  70  71  72\n",
            "  73  74  75  76  77  78  79  80  81  82  83  84  85  86  87  88  89  90\n",
            "  91  92  93  94  95  96  97  98  99 100 101 102 103 104 105 106 107 108\n",
            " 109 110 111 112 113 114 115 116 117 118 120 121 122 123 124 125 126 127\n",
            " 128 129 131 132 133 134 135 136 137 138 139 140 141 142 143 144 145 146\n",
            " 147 148 149 150 151 153 154 155 156 157 158 159 161 162 163 164 165 166\n",
            " 167 168 169 170 171 172 173 174 175 176 177 178 179 180 181 182 183 184\n",
            " 185 186 187 188 189 191 192 193 194 195 196 197 198 199 200 201 202 203\n",
            " 204 205 206 207 208 209 210 211 212 213 214 215 216 217 218 219 220 221\n",
            " 222 223 224 225 226 227 228 229 230 231 232 233 234 235 236 237 238 239\n",
            " 240 241 242 243 244 245 246 247 248 249 250 251 252 253 254 255 257 258\n",
            " 259 260 261 263 264 265 266 267 268 269 270 271 272 273 275 276 277 278\n",
            " 279 280 281 282 283 284 285 286 287 288 289 290 291 292 293 294 295 296\n",
            " 297 298 299 300 301 302 303 304 305 306 307 308 309 310 311 312 313 314\n",
            " 315 317 318 319 320 321 322 323 324 325 326 327 328 329 330 331 332 333\n",
            " 334 335 336 337 338 339 340 341 342 343 344 345 346 347 348 349 350 351\n",
            " 352 353 354 355 356 357 358 359 360 361 362 363 364 365 366 367 368 369\n",
            " 370 371 372 373 374 375 376 377 378 379 380 381 382 383 385 386 387 388\n",
            " 389 390 391 392 393 394 395 396 397 398 399 400 401 402 404 405 406 407\n",
            " 408 409 411 412 413 414 415 416 417 418 419 420 421 422 423 424 425 426\n",
            " 427 428 429 430 431 432 433 434 435 436 437 438 440 441 442 443 444 445\n",
            " 446 447 448 449 450 451 452 453 454 455 456 457 458 459 461 462 463 464\n",
            " 465 466 467 468 469 470 471 472 473 474 475 476 477 478 479 480 481 482\n",
            " 485 487 488 489 490 491 492 493 494 495 497 498 499 500 501 503 504 505]\n",
            "test [119 403 256 486 484 460 410 316 152 502 130 384 439 274 160  12 190 496\n",
            " 483 262]\n",
            "(486, 13)\n",
            "(506, 13)\n"
          ]
        },
        {
          "output_type": "stream",
          "name": "stderr",
          "text": [
            "<ipython-input-64-4ea8726a82ce>:42: DeprecationWarning: elementwise comparison failed; this will raise an error in the future.\n",
            "  print(np.all(test_indices not in train_indices))\n"
          ]
        },
        {
          "output_type": "execute_result",
          "data": {
            "text/plain": [
              "119    13.61\n",
              "403    19.77\n",
              "256     3.11\n",
              "486    14.98\n",
              "484    13.34\n",
              "460    16.42\n",
              "410    10.11\n",
              "316    18.33\n",
              "152    12.12\n",
              "502     9.08\n",
              "130    12.60\n",
              "384    30.63\n",
              "439    22.88\n",
              "274     3.53\n",
              "160     5.50\n",
              "12     15.71\n",
              "190     5.10\n",
              "496    21.14\n",
              "483    10.42\n",
              "262     5.91\n",
              "Name: lstat, dtype: float64"
            ]
          },
          "metadata": {},
          "execution_count": 64
        }
      ]
    }
  ]
}