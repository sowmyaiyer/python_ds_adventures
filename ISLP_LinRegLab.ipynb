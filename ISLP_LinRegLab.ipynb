{
  "nbformat": 4,
  "nbformat_minor": 0,
  "metadata": {
    "colab": {
      "provenance": [],
      "authorship_tag": "ABX9TyPV+WiBJ2z26zMpv12czgK9",
      "include_colab_link": true
    },
    "kernelspec": {
      "name": "python3",
      "display_name": "Python 3"
    },
    "language_info": {
      "name": "python"
    }
  },
  "cells": [
    {
      "cell_type": "markdown",
      "metadata": {
        "id": "view-in-github",
        "colab_type": "text"
      },
      "source": [
        "<a href=\"https://colab.research.google.com/github/sowmyaiyer/python_ds_adventures/blob/main/ISLP_LinRegLab.ipynb\" target=\"_parent\"><img src=\"https://colab.research.google.com/assets/colab-badge.svg\" alt=\"Open In Colab\"/></a>"
      ]
    },
    {
      "cell_type": "code",
      "execution_count": 2,
      "metadata": {
        "id": "UOVujMo2A4Yd"
      },
      "outputs": [],
      "source": [
        "#!pip install ISLP\n",
        "import numpy as np\n",
        "import pandas as pd\n",
        "import matplotlib as mb\n",
        "\n",
        "import statsmodels as sm\n",
        "\n",
        "\n",
        "\n"
      ]
    },
    {
      "cell_type": "code",
      "source": [
        "#### Chapter 2.4 exercises\n",
        "\n",
        "# 7. KNN classifier\n",
        "def euclidean(df, vec2) :\n",
        "  if (df.shape[1]!= len(vec2)) :\n",
        "    raise Exception(\"Inputs have to be the same length\")\n",
        "    return\n",
        "  print (\"nrows is \", df.shape[0])\n",
        "  sum = np.zeros(df.shape[0], dtype = \"float64\")\n",
        "  for i in range(df.shape[0]) :\n",
        "    sum[i] = np.sqrt(\n",
        "        np.sum(\n",
        "            np.square(\n",
        "                    np.subtract(df.iloc[i], vec2)\n",
        "                    )\n",
        "            )\n",
        "        )\n",
        "  return sum\n",
        "\n",
        "\n",
        "#print(\"euclidean distance = \",  euclidean([2,1,0,1,5],[1,1,0,0,0.1]))\n",
        "\n",
        "\n",
        "\n",
        "import numpy as np\n",
        "df = pd.DataFrame({'Obs': ['Obs' + str(n) for n in range(6)],\n",
        "                   'X1' : [0,2,0,0,-1,1],\n",
        "                   'X2': [3,0,1,1,3,1],\n",
        "                   'X3': [0,0,3,2,2,1],\n",
        "                   'Y' : ['Red','Red','Red','Green','Green','Red']})\n",
        "\n",
        "\n",
        "\n",
        "print(\"df is \", df)\n",
        "df2 = df.set_index('Obs')\n",
        "df2_sub = df2.iloc[0:5, 0:3]\n",
        "\n",
        "print(\"df2_sub is \\n\", df2_sub)\n",
        "\n",
        "k = 3\n",
        "results_ind = np.argsort(euclidean(df2_sub, vec2 = [0,0,0]),)[range(k)]\n",
        "results = np.sort(euclidean(df2_sub, vec2 = [1,1,1]),)[range(k)]\n",
        "\n",
        "\n",
        "print(\"results_ind are \\n\", results_ind)\n",
        "print(\"results are \\n\", results)\n",
        "classes = df.loc[results_ind,'Y']\n",
        "\n",
        "tabled = pd.crosstab(classes, 'Y')\n",
        "print(\"wtf is tabled \", np.argmax(tabled.Y))\n",
        "tabled.index[np.argmax(tabled.Y)]\n",
        "#tabled.columns\n",
        "#tabled\n",
        "\n"
      ],
      "metadata": {
        "colab": {
          "base_uri": "https://localhost:8080/",
          "height": 409
        },
        "id": "K5WHS6paIJ0I",
        "outputId": "fced3ceb-2b95-4ae0-c796-a81afa67580b"
      },
      "execution_count": 3,
      "outputs": [
        {
          "output_type": "stream",
          "name": "stdout",
          "text": [
            "df is      Obs  X1  X2  X3      Y\n",
            "0  Obs0   0   3   0    Red\n",
            "1  Obs1   2   0   0    Red\n",
            "2  Obs2   0   1   3    Red\n",
            "3  Obs3   0   1   2  Green\n",
            "4  Obs4  -1   3   2  Green\n",
            "5  Obs5   1   1   1    Red\n",
            "df2_sub is \n",
            "       X1  X2  X3\n",
            "Obs             \n",
            "Obs0   0   3   0\n",
            "Obs1   2   0   0\n",
            "Obs2   0   1   3\n",
            "Obs3   0   1   2\n",
            "Obs4  -1   3   2\n",
            "nrows is  5\n",
            "nrows is  5\n",
            "results_ind are \n",
            " [1 3 0]\n",
            "results are \n",
            " [1.41421356 1.73205081 2.23606798]\n",
            "wtf is tabled  1\n"
          ]
        },
        {
          "output_type": "execute_result",
          "data": {
            "text/plain": [
              "'Red'"
            ],
            "application/vnd.google.colaboratory.intrinsic+json": {
              "type": "string"
            }
          },
          "metadata": {},
          "execution_count": 3
        }
      ]
    },
    {
      "cell_type": "code",
      "source": [
        "#### 2.4 ISLP exercise KNN classifier proper\n",
        "# euclid function gets euclidean distance between each row of a dataframe and vec2\n",
        "def euclid(df, vec2) :\n",
        "  sum = np.zeros(df.shape[0], dtype = \"float64\")\n",
        "  for i in range(df.shape[0]) :\n",
        "    sum[i] = np.sqrt(\n",
        "        np.sum(\n",
        "            np.square(\n",
        "                np.subtract([df.iloc[i]], vec2))\n",
        "          ))\n",
        "\n",
        "  return(sum)\n",
        "\n",
        "\n",
        "test = pd.DataFrame([[1,1,1],[3,3,3]])\n",
        "#test.iloc[1]\n",
        "# just testing with toy example\n",
        "print(np.subtract([test.iloc[i] for i in range(test.shape[0])], [0,0,0]))\n",
        "print(euclid(test, [0,0,0]))\n",
        "\n",
        "# create a matrix of 33 rows and 3 columns, from std normal dist\n",
        "rng = np.random.default_rng()\n",
        "mat_random = pd.DataFrame(rng.normal(size=99, loc=0, scale=1).reshape(33,3))\n",
        "mat_random.columns = ['X' + str(n) for n in range(1,4)]\n",
        "mat_random.columns\n",
        "print(\"starting matrix is \\n\", mat_random)\n",
        "mat_random['Obs'] = ['Obs' + str(n) for n in range(1,34)]\n",
        "mat_random = mat_random.set_index('Obs')\n",
        "label_rep = np.repeat(['Red','Green','Green'],repeats = 11)\n",
        "label_rep\n",
        "rng.shuffle(label_rep)\n",
        "\n",
        "\n",
        "mat_random['label'] = label_rep\n",
        "\n",
        "#label_random = np.repeat(['Red','Green'],repeats=10)\n",
        "\n",
        "mat_random = pd.DataFrame(mat_random)\n",
        "vec2 = [-1,1,0]\n",
        "dist_results = euclid(mat_random.iloc[:,[0,1,2]], vec2)\n",
        "dist_results_indexes_sorted = np.argsort(dist_results)\n",
        "\n",
        "k = 5\n",
        "top_k_labels = mat_random.iloc[dist_results_indexes_sorted[range(k)]]['label']\n",
        "#closest_k_labels = mat_random[dist_results_indexes_sorted, 'label']\n",
        "tab = pd.crosstab(top_k_labels, columns=0)\n",
        "tab['prob'] = tab[0]/np.sum(tab[0])\n",
        "print(dist_results)\n",
        "print(tab)\n",
        "print(\"For k = \", k, \" assignment of \", vec2, \"is\" , tab.index[np.argmax(tab['prob'])], \"with a prob of \", np.max(tab['prob']))\n",
        "np.sum(mat_random['label'] == 'Red')\n",
        "np.sum(mat_random['label'] == 'Green')"
      ],
      "metadata": {
        "id": "mkPbRa4lIlBv"
      },
      "execution_count": null,
      "outputs": []
    },
    {
      "cell_type": "code",
      "source": [
        "#### 3.6 Lab\n",
        "#!pip install ISLP\n",
        "\n",
        "import numpy as np\n",
        "import pandas as pd\n",
        "import matplotlib as mb\n",
        "\n",
        "import statsmodels as sm\n",
        "import sklearn\n",
        "\n",
        "from ISLP import load_data\n",
        "from ISLP.models import ModelSpec as MS\n",
        "from ISLP.models import summarize\n",
        "from ISLP.models import poly\n",
        "\n",
        "Boston = load_data(\"Boston\")\n",
        "\n",
        "\n",
        "X = pd.DataFrame({'intercept': np.ones(Boston.shape[0]), 'lstat': Boston['lstat']})\n",
        "y = Boston['medv']\n",
        "\n",
        "model = sm.api.OLS(y, X)\n",
        "results = model.fit()\n",
        "\n",
        "sum_results = results.summary().tables[1]\n",
        "\n",
        "df = pd.DataFrame(sum_results)\n",
        "df.columns = df.iloc[0]\n",
        "df = df.iloc[1:]\n",
        "\n",
        "\n",
        "stsc = sklearn.preprocessing.StandardScaler()\n",
        "\n",
        "\n",
        "\n",
        "test_indices = np.random.choice(Boston.shape[0], replace=False, size=20)\n",
        "train_indices = np.setdiff1d(np.array(Boston.index),test_indices)\n",
        "train = Boston.iloc[train_indices]\n",
        "test = Boston.iloc[test_indices]\n",
        "\n",
        "train_fit = pd.DataFrame(stsc.fit_transform(train[['lstat','medv']]))\n",
        "print(train_fit.shape)\n",
        "test_transform = pd.DataFrame(stsc.transform(test[['lstat','medv']]))\n",
        "X = pd.DataFrame({'intercept': np.ones(train_fit.shape[0]), 'lstat': train_fit[0]})\n",
        "y = train_fit[1]\n",
        "\n",
        "model = sm.api.OLS(y,X)\n",
        "results = model.fit()\n",
        "predictions = results.get_prediction(exog = test_transform)\n",
        "predictions.predicted_mean"
      ],
      "metadata": {
        "colab": {
          "base_uri": "https://localhost:8080/"
        },
        "id": "5aY2L0qIhybC",
        "outputId": "e74c35b7-2a54-463d-fb3f-afc2a43ca402"
      },
      "execution_count": 124,
      "outputs": [
        {
          "output_type": "stream",
          "name": "stdout",
          "text": [
            "(486, 2)\n"
          ]
        },
        {
          "output_type": "execute_result",
          "data": {
            "text/plain": [
              "array([-0.19688114,  0.40470471,  0.67742364, -0.85461502,  0.21219724,\n",
              "       -1.58453919, -0.04447939,  0.54908532,  0.28438754, -2.20216734,\n",
              "       -0.01239481,  0.26032411,  0.46085273,  0.19615495,  0.90201569,\n",
              "        0.2763664 , -0.03645825,  0.10792236,  0.46887387,  0.64533906])"
            ]
          },
          "metadata": {},
          "execution_count": 124
        }
      ]
    }
  ]
}