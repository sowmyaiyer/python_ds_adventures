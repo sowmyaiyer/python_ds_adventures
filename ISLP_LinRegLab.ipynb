{
  "nbformat": 4,
  "nbformat_minor": 0,
  "metadata": {
    "colab": {
      "provenance": [],
      "authorship_tag": "ABX9TyPMAoWd1lmGobfLt5Vm9Fhx",
      "include_colab_link": true
    },
    "kernelspec": {
      "name": "python3",
      "display_name": "Python 3"
    },
    "language_info": {
      "name": "python"
    }
  },
  "cells": [
    {
      "cell_type": "markdown",
      "metadata": {
        "id": "view-in-github",
        "colab_type": "text"
      },
      "source": [
        "<a href=\"https://colab.research.google.com/github/sowmyaiyer/python_ds_adventures/blob/main/ISLP_LinRegLab.ipynb\" target=\"_parent\"><img src=\"https://colab.research.google.com/assets/colab-badge.svg\" alt=\"Open In Colab\"/></a>"
      ]
    },
    {
      "cell_type": "code",
      "execution_count": 4,
      "metadata": {
        "id": "UOVujMo2A4Yd"
      },
      "outputs": [],
      "source": [
        "#!pip install ISLP\n",
        "import numpy as np\n",
        "import pandas as pd\n",
        "import matplotlib as mb\n",
        "\n",
        "import statsmodels as sm\n",
        "\n",
        "#from ISLP import load_data\n",
        "\n"
      ]
    },
    {
      "cell_type": "code",
      "source": [
        "#### Chapter 2.4 exercises\n",
        "\n",
        "# 7. KNN classifier\n",
        "def euclidean(df, vec2) :\n",
        "  if (df.shape[1]!= len(vec2)) :\n",
        "    raise Exception(\"Inputs have to be the same length\")\n",
        "    return\n",
        "  print (\"nrows is \", df.shape[0])\n",
        "  sum = np.zeros(df.shape[0], dtype = \"float64\")\n",
        "  for i in range(df.shape[0]) :\n",
        "    sum[i] = np.sqrt(\n",
        "        np.sum(\n",
        "            np.square(\n",
        "                    np.subtract(df.iloc[i], vec2)\n",
        "                    )\n",
        "            )\n",
        "        )\n",
        "  return sum\n",
        "\n",
        "\n",
        "#print(\"euclidean distance = \",  euclidean([2,1,0,1,5],[1,1,0,0,0.1]))\n",
        "\n",
        "\n",
        "\n",
        "import numpy as np\n",
        "df = pd.DataFrame({'Obs': ['Obs' + str(n) for n in range(6)],\n",
        "                   'X1' : [0,2,0,0,-1,1],\n",
        "                   'X2': [3,0,1,1,3,1],\n",
        "                   'X3': [0,0,3,2,2,1],\n",
        "                   'Y' : ['Red','Red','Red','Green','Green','Red']})\n",
        "\n",
        "\n",
        "\n",
        "print(\"df is \", df)\n",
        "df2 = df.set_index('Obs')\n",
        "df2_sub = df2.iloc[0:5, 0:3]\n",
        "\n",
        "print(\"df2_sub is \\n\", df2_sub)\n",
        "\n",
        "k = 3\n",
        "results_ind = np.argsort(euclidean(df2_sub, vec2 = [0,0,0]),)[range(k)]\n",
        "results = np.sort(euclidean(df2_sub, vec2 = [1,1,1]),)[range(k)]\n",
        "\n",
        "\n",
        "print(\"results_ind are \\n\", results_ind)\n",
        "print(\"results are \\n\", results)\n",
        "classes = df.loc[results_ind,'Y']\n",
        "\n",
        "tabled = pd.crosstab(classes, 'Y')\n",
        "print(\"wtf is tabled \", np.argmax(tabled.Y))\n",
        "tabled.index[np.argmax(tabled.Y)]\n",
        "#tabled.columns\n",
        "#tabled\n",
        "\n"
      ],
      "metadata": {
        "colab": {
          "base_uri": "https://localhost:8080/",
          "height": 409
        },
        "id": "K5WHS6paIJ0I",
        "outputId": "b66201a6-7d19-46e6-e401-231beefb2233"
      },
      "execution_count": 5,
      "outputs": [
        {
          "output_type": "stream",
          "name": "stdout",
          "text": [
            "df is      Obs  X1  X2  X3      Y\n",
            "0  Obs0   0   3   0    Red\n",
            "1  Obs1   2   0   0    Red\n",
            "2  Obs2   0   1   3    Red\n",
            "3  Obs3   0   1   2  Green\n",
            "4  Obs4  -1   3   2  Green\n",
            "5  Obs5   1   1   1    Red\n",
            "df2_sub is \n",
            "       X1  X2  X3\n",
            "Obs             \n",
            "Obs0   0   3   0\n",
            "Obs1   2   0   0\n",
            "Obs2   0   1   3\n",
            "Obs3   0   1   2\n",
            "Obs4  -1   3   2\n",
            "nrows is  5\n",
            "nrows is  5\n",
            "results_ind are \n",
            " [1 3 0]\n",
            "results are \n",
            " [1.41421356 1.73205081 2.23606798]\n",
            "wtf is tabled  1\n"
          ]
        },
        {
          "output_type": "execute_result",
          "data": {
            "text/plain": [
              "'Red'"
            ],
            "application/vnd.google.colaboratory.intrinsic+json": {
              "type": "string"
            }
          },
          "metadata": {},
          "execution_count": 5
        }
      ]
    },
    {
      "cell_type": "code",
      "source": [
        "#### 2.4 ISLP exercise KNN classifier proper\n",
        "# euclid function gets euclidean distance between each row of a dataframe and vec2\n",
        "def euclid(df, vec2) :\n",
        "  sum = np.zeros(df.shape[0], dtype = \"float64\")\n",
        "  for i in range(df.shape[0]) :\n",
        "    sum[i] = np.sqrt(\n",
        "        np.sum(\n",
        "            np.square(\n",
        "                np.subtract([df.iloc[i]], vec2))\n",
        "          ))\n",
        "\n",
        "  return(sum)\n",
        "\n",
        "\n",
        "test = pd.DataFrame([[1,1,1],[3,3,3]])\n",
        "#test.iloc[1]\n",
        "# just testing with toy example\n",
        "print(np.subtract([test.iloc[i] for i in range(test.shape[0])], [0,0,0]))\n",
        "print(euclid(test, [0,0,0]))\n",
        "\n",
        "# create a matrix of 33 rows and 3 columns, from std normal dist\n",
        "rng = np.random.default_rng()\n",
        "mat_random = pd.DataFrame(rng.normal(size=99, loc=0, scale=1).reshape(33,3))\n",
        "mat_random.columns = ['X' + str(n) for n in range(1,4)]\n",
        "mat_random.columns\n",
        "print(\"starting matrix is \\n\", mat_random)\n",
        "mat_random['Obs'] = ['Obs' + str(n) for n in range(1,34)]\n",
        "mat_random = mat_random.set_index('Obs')\n",
        "label_rep = np.repeat(['Red','Green','Green'],repeats = 11)\n",
        "label_rep\n",
        "rng.shuffle(label_rep)\n",
        "\n",
        "\n",
        "mat_random['label'] = label_rep\n",
        "\n",
        "#label_random = np.repeat(['Red','Green'],repeats=10)\n",
        "\n",
        "mat_random = pd.DataFrame(mat_random)\n",
        "vec2 = [-1,1,0]\n",
        "dist_results = euclid(mat_random.iloc[:,[0,1,2]], vec2)\n",
        "dist_results_indexes_sorted = np.argsort(dist_results)\n",
        "\n",
        "k = 5\n",
        "top_k_labels = mat_random.iloc[dist_results_indexes_sorted[range(k)]]['label']\n",
        "#closest_k_labels = mat_random[dist_results_indexes_sorted, 'label']\n",
        "tab = pd.crosstab(top_k_labels, columns=0)\n",
        "tab['prob'] = tab[0]/np.sum(tab[0])\n",
        "print(dist_results)\n",
        "print(tab)\n",
        "print(\"For k = \", k, \" assignment of \", vec2, \"is\" , tab.index[np.argmax(tab['prob'])], \"with a prob of \", np.max(tab['prob']))\n",
        "np.sum(mat_random['label'] == 'Red')\n",
        "np.sum(mat_random['label'] == 'Green')"
      ],
      "metadata": {
        "colab": {
          "base_uri": "https://localhost:8080/"
        },
        "id": "mkPbRa4lIlBv",
        "outputId": "0285c581-3620-49a1-8287-b3c4827ee24b"
      },
      "execution_count": 94,
      "outputs": [
        {
          "output_type": "stream",
          "name": "stdout",
          "text": [
            "[[1 1 1]\n",
            " [3 3 3]]\n",
            "[1.73205081 5.19615242]\n",
            "starting matrix is \n",
            "           X1        X2        X3\n",
            "0   0.257422 -0.146260 -0.268118\n",
            "1  -0.163245 -0.489493  0.488946\n",
            "2   1.853189  0.201341  0.949198\n",
            "3  -1.112501  1.112508 -0.386813\n",
            "4   2.330019 -0.363570 -0.006290\n",
            "5   0.314487 -0.618103 -0.073228\n",
            "6   1.840721  0.808933 -1.261121\n",
            "7  -0.504799  0.994807  0.708031\n",
            "8  -0.198730 -1.814776 -0.444681\n",
            "9   0.415120  1.871883  2.226400\n",
            "10  2.444555 -0.047143 -0.660720\n",
            "11  0.834170  0.006960 -0.997551\n",
            "12 -1.181191 -1.597242 -0.002522\n",
            "13  1.633594  0.176963  0.202525\n",
            "14 -0.780199 -0.109563  0.621380\n",
            "15  0.912339  0.555838  0.029859\n",
            "16 -2.193282 -1.341733  0.269993\n",
            "17  1.117571 -0.090315  0.426226\n",
            "18 -0.607682 -0.829252  0.540503\n",
            "19  0.312887 -0.027083  0.381357\n",
            "20 -0.272928 -0.234538  0.481054\n",
            "21  0.816661  0.034588  0.320755\n",
            "22 -1.681112  1.601354 -1.062038\n",
            "23  1.233941  1.137735 -1.015362\n",
            "24 -1.210853 -0.888417  0.566252\n",
            "25  0.076983 -0.666490 -0.628178\n",
            "26  0.886290  0.711192 -1.714456\n",
            "27 -0.508307 -0.710813 -1.011977\n",
            "28  0.571402  0.467678 -0.960337\n",
            "29  0.074676  0.721549  1.359314\n",
            "30 -2.622372 -1.316879 -0.651251\n",
            "31 -0.799307  0.402892 -0.576319\n",
            "32 -0.251558  0.244033  0.878890\n",
            "[1.72247183 1.77702471 3.11119284 0.41825729 3.59838685 2.0860244\n",
            " 3.11394087 0.864036   2.96019251 2.77841642 3.66033041 2.31201546\n",
            " 2.60355622 2.7666267  1.29056452 1.96346914 2.6420694  2.41962015\n",
            " 1.94736193 1.70997225 1.51133375 2.08210525 1.3976643  2.45772743\n",
            " 1.98273053 2.08127083 2.56531867 2.04761838 1.91700777 1.75504911\n",
            " 2.90243808 0.85379085 1.37989092]\n",
            "col_0  0  prob\n",
            "label         \n",
            "Green  5   1.0\n",
            "For k =  5  assignment of  [-1, 1, 0] is Green with a prob of  1.0\n"
          ]
        },
        {
          "output_type": "execute_result",
          "data": {
            "text/plain": [
              "22"
            ]
          },
          "metadata": {},
          "execution_count": 94
        }
      ]
    },
    {
      "cell_type": "code",
      "source": [],
      "metadata": {
        "id": "v59EqMOA-uf8"
      },
      "execution_count": null,
      "outputs": []
    },
    {
      "cell_type": "code",
      "source": [],
      "metadata": {
        "id": "WQpHoc6he6EX"
      },
      "execution_count": null,
      "outputs": []
    }
  ]
}