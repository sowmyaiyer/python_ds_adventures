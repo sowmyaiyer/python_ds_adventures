{
  "nbformat": 4,
  "nbformat_minor": 0,
  "metadata": {
    "colab": {
      "provenance": [],
      "authorship_tag": "ABX9TyMExZ/6UWcIXx4c/1OIw/t3",
      "include_colab_link": true
    },
    "kernelspec": {
      "name": "python3",
      "display_name": "Python 3"
    },
    "language_info": {
      "name": "python"
    }
  },
  "cells": [
    {
      "cell_type": "markdown",
      "metadata": {
        "id": "view-in-github",
        "colab_type": "text"
      },
      "source": [
        "<a href=\"https://colab.research.google.com/github/sowmyaiyer/python_ds_adventures/blob/main/Rosalind_exercises.ipynb\" target=\"_parent\"><img src=\"https://colab.research.google.com/assets/colab-badge.svg\" alt=\"Open In Colab\"/></a>"
      ]
    },
    {
      "cell_type": "code",
      "source": [
        "# imports\n",
        "import os, sys\n",
        "from google.colab import drive\n",
        "drive.mount('/content/drive')\n",
        "nb_path = '/content/si_py_notebooks'\n",
        "#os.symlink('/content/drive/My Drive/Colab Notebooks', nb_path)\n",
        "sys.path.insert(0,nb_path)\n",
        "\n",
        "!pip install SeqIO --target=$nb_paths\n",
        "!pip install Bio --target=$nb_paths\n",
        "\n"
      ],
      "metadata": {
        "colab": {
          "base_uri": "https://localhost:8080/",
          "height": 1000
        },
        "id": "pRMfWrUDbx4P",
        "outputId": "17dec22b-d56e-4670-9d39-b6a4714fee9a"
      },
      "execution_count": 4,
      "outputs": [
        {
          "output_type": "stream",
          "name": "stdout",
          "text": [
            "Drive already mounted at /content/drive; to attempt to forcibly remount, call drive.mount(\"/content/drive\", force_remount=True).\n",
            "Collecting SeqIO\n",
            "  Downloading seqio-0.0.19-py3-none-any.whl (354 kB)\n",
            "\u001b[2K     \u001b[90m━━━━━━━━━━━━━━━━━━━━━━━━━━━━━━━━━━━━━━━━\u001b[0m \u001b[32m354.3/354.3 kB\u001b[0m \u001b[31m3.2 MB/s\u001b[0m eta \u001b[36m0:00:00\u001b[0m\n",
            "\u001b[?25hRequirement already satisfied: absl-py in /usr/local/lib/python3.10/dist-packages (from SeqIO) (1.4.0)\n",
            "Collecting clu (from SeqIO)\n",
            "  Downloading clu-0.0.10-py3-none-any.whl (100 kB)\n",
            "\u001b[2K     \u001b[90m━━━━━━━━━━━━━━━━━━━━━━━━━━━━━━━━━━━━━━━━\u001b[0m \u001b[32m100.9/100.9 kB\u001b[0m \u001b[31m10.4 MB/s\u001b[0m eta \u001b[36m0:00:00\u001b[0m\n",
            "\u001b[?25hRequirement already satisfied: editdistance in /usr/local/lib/python3.10/dist-packages (from SeqIO) (0.6.2)\n",
            "Requirement already satisfied: jax in /usr/local/lib/python3.10/dist-packages (from SeqIO) (0.4.23)\n",
            "Requirement already satisfied: jaxlib in /usr/local/lib/python3.10/dist-packages (from SeqIO) (0.4.23+cuda12.cudnn89)\n",
            "Requirement already satisfied: numpy in /usr/local/lib/python3.10/dist-packages (from SeqIO) (1.25.2)\n",
            "Requirement already satisfied: packaging in /usr/local/lib/python3.10/dist-packages (from SeqIO) (23.2)\n",
            "Collecting pyglove (from SeqIO)\n",
            "  Downloading pyglove-0.4.4-py3-none-any.whl (577 kB)\n",
            "\u001b[2K     \u001b[90m━━━━━━━━━━━━━━━━━━━━━━━━━━━━━━━━━━━━━━━━\u001b[0m \u001b[32m577.8/577.8 kB\u001b[0m \u001b[31m12.4 MB/s\u001b[0m eta \u001b[36m0:00:00\u001b[0m\n",
            "\u001b[?25hRequirement already satisfied: sentencepiece in /usr/local/lib/python3.10/dist-packages (from SeqIO) (0.1.99)\n",
            "Collecting tensorflow-text (from SeqIO)\n",
            "  Downloading tensorflow_text-2.15.0-cp310-cp310-manylinux_2_17_x86_64.manylinux2014_x86_64.whl (5.2 MB)\n",
            "\u001b[2K     \u001b[90m━━━━━━━━━━━━━━━━━━━━━━━━━━━━━━━━━━━━━━━━\u001b[0m \u001b[32m5.2/5.2 MB\u001b[0m \u001b[31m43.0 MB/s\u001b[0m eta \u001b[36m0:00:00\u001b[0m\n",
            "\u001b[?25hCollecting tfds-nightly==4.9.2.dev202308090034 (from SeqIO)\n",
            "  Downloading tfds_nightly-4.9.2.dev202308090034-py3-none-any.whl (5.0 MB)\n",
            "\u001b[2K     \u001b[90m━━━━━━━━━━━━━━━━━━━━━━━━━━━━━━━━━━━━━━━━\u001b[0m \u001b[32m5.0/5.0 MB\u001b[0m \u001b[31m53.2 MB/s\u001b[0m eta \u001b[36m0:00:00\u001b[0m\n",
            "\u001b[?25hRequirement already satisfied: protobuf<=3.20.3 in /usr/local/lib/python3.10/dist-packages (from SeqIO) (3.20.3)\n",
            "Requirement already satisfied: array-record in /usr/local/lib/python3.10/dist-packages (from tfds-nightly==4.9.2.dev202308090034->SeqIO) (0.5.0)\n",
            "Requirement already satisfied: click in /usr/local/lib/python3.10/dist-packages (from tfds-nightly==4.9.2.dev202308090034->SeqIO) (8.1.7)\n",
            "Requirement already satisfied: dm-tree in /usr/local/lib/python3.10/dist-packages (from tfds-nightly==4.9.2.dev202308090034->SeqIO) (0.1.8)\n",
            "Requirement already satisfied: etils[enp,epath,etree]>=0.9.0 in /usr/local/lib/python3.10/dist-packages (from tfds-nightly==4.9.2.dev202308090034->SeqIO) (1.6.0)\n",
            "Requirement already satisfied: promise in /usr/local/lib/python3.10/dist-packages (from tfds-nightly==4.9.2.dev202308090034->SeqIO) (2.3)\n",
            "Requirement already satisfied: psutil in /usr/local/lib/python3.10/dist-packages (from tfds-nightly==4.9.2.dev202308090034->SeqIO) (5.9.5)\n",
            "Requirement already satisfied: requests>=2.19.0 in /usr/local/lib/python3.10/dist-packages (from tfds-nightly==4.9.2.dev202308090034->SeqIO) (2.31.0)\n",
            "Requirement already satisfied: tensorflow-metadata in /usr/local/lib/python3.10/dist-packages (from tfds-nightly==4.9.2.dev202308090034->SeqIO) (1.14.0)\n",
            "Requirement already satisfied: termcolor in /usr/local/lib/python3.10/dist-packages (from tfds-nightly==4.9.2.dev202308090034->SeqIO) (2.4.0)\n",
            "Requirement already satisfied: toml in /usr/local/lib/python3.10/dist-packages (from tfds-nightly==4.9.2.dev202308090034->SeqIO) (0.10.2)\n",
            "Requirement already satisfied: tqdm in /usr/local/lib/python3.10/dist-packages (from tfds-nightly==4.9.2.dev202308090034->SeqIO) (4.66.2)\n",
            "Requirement already satisfied: wrapt in /usr/local/lib/python3.10/dist-packages (from tfds-nightly==4.9.2.dev202308090034->SeqIO) (1.14.1)\n",
            "Requirement already satisfied: flax in /usr/local/lib/python3.10/dist-packages (from clu->SeqIO) (0.8.1)\n",
            "Collecting ml-collections (from clu->SeqIO)\n",
            "  Downloading ml_collections-0.1.1.tar.gz (77 kB)\n",
            "\u001b[2K     \u001b[90m━━━━━━━━━━━━━━━━━━━━━━━━━━━━━━━━━━━━━━━━\u001b[0m \u001b[32m77.9/77.9 kB\u001b[0m \u001b[31m8.8 MB/s\u001b[0m eta \u001b[36m0:00:00\u001b[0m\n",
            "\u001b[?25h  Preparing metadata (setup.py) ... \u001b[?25l\u001b[?25hdone\n",
            "Collecting numpy (from SeqIO)\n",
            "  Downloading numpy-1.23.1-cp310-cp310-manylinux_2_17_x86_64.manylinux2014_x86_64.whl (17.0 MB)\n",
            "\u001b[2K     \u001b[90m━━━━━━━━━━━━━━━━━━━━━━━━━━━━━━━━━━━━━━━━\u001b[0m \u001b[32m17.0/17.0 MB\u001b[0m \u001b[31m41.6 MB/s\u001b[0m eta \u001b[36m0:00:00\u001b[0m\n",
            "\u001b[?25hRequirement already satisfied: typing-extensions in /usr/local/lib/python3.10/dist-packages (from clu->SeqIO) (4.9.0)\n",
            "Requirement already satisfied: ml-dtypes>=0.2.0 in /usr/local/lib/python3.10/dist-packages (from jax->SeqIO) (0.2.0)\n",
            "Requirement already satisfied: opt-einsum in /usr/local/lib/python3.10/dist-packages (from jax->SeqIO) (3.3.0)\n",
            "Requirement already satisfied: scipy>=1.9 in /usr/local/lib/python3.10/dist-packages (from jax->SeqIO) (1.11.4)\n",
            "Collecting docstring-parser>=0.12 (from pyglove->SeqIO)\n",
            "  Downloading docstring_parser-0.15-py3-none-any.whl (36 kB)\n",
            "Requirement already satisfied: tensorflow-hub>=0.13.0 in /usr/local/lib/python3.10/dist-packages (from tensorflow-text->SeqIO) (0.16.1)\n",
            "Requirement already satisfied: tensorflow<2.16,>=2.15.0 in /usr/local/lib/python3.10/dist-packages (from tensorflow-text->SeqIO) (2.15.0)\n",
            "Requirement already satisfied: fsspec in /usr/local/lib/python3.10/dist-packages (from etils[enp,epath,etree]>=0.9.0->tfds-nightly==4.9.2.dev202308090034->SeqIO) (2023.6.0)\n",
            "Requirement already satisfied: importlib_resources in /usr/local/lib/python3.10/dist-packages (from etils[enp,epath,etree]>=0.9.0->tfds-nightly==4.9.2.dev202308090034->SeqIO) (6.1.1)\n",
            "Requirement already satisfied: zipp in /usr/local/lib/python3.10/dist-packages (from etils[enp,epath,etree]>=0.9.0->tfds-nightly==4.9.2.dev202308090034->SeqIO) (3.17.0)\n",
            "Requirement already satisfied: charset-normalizer<4,>=2 in /usr/local/lib/python3.10/dist-packages (from requests>=2.19.0->tfds-nightly==4.9.2.dev202308090034->SeqIO) (3.3.2)\n",
            "Requirement already satisfied: idna<4,>=2.5 in /usr/local/lib/python3.10/dist-packages (from requests>=2.19.0->tfds-nightly==4.9.2.dev202308090034->SeqIO) (3.6)\n",
            "Requirement already satisfied: urllib3<3,>=1.21.1 in /usr/local/lib/python3.10/dist-packages (from requests>=2.19.0->tfds-nightly==4.9.2.dev202308090034->SeqIO) (2.0.7)\n",
            "Requirement already satisfied: certifi>=2017.4.17 in /usr/local/lib/python3.10/dist-packages (from requests>=2.19.0->tfds-nightly==4.9.2.dev202308090034->SeqIO) (2024.2.2)\n",
            "Requirement already satisfied: astunparse>=1.6.0 in /usr/local/lib/python3.10/dist-packages (from tensorflow<2.16,>=2.15.0->tensorflow-text->SeqIO) (1.6.3)\n",
            "Requirement already satisfied: flatbuffers>=23.5.26 in /usr/local/lib/python3.10/dist-packages (from tensorflow<2.16,>=2.15.0->tensorflow-text->SeqIO) (23.5.26)\n",
            "Requirement already satisfied: gast!=0.5.0,!=0.5.1,!=0.5.2,>=0.2.1 in /usr/local/lib/python3.10/dist-packages (from tensorflow<2.16,>=2.15.0->tensorflow-text->SeqIO) (0.5.4)\n",
            "Requirement already satisfied: google-pasta>=0.1.1 in /usr/local/lib/python3.10/dist-packages (from tensorflow<2.16,>=2.15.0->tensorflow-text->SeqIO) (0.2.0)\n",
            "Requirement already satisfied: h5py>=2.9.0 in /usr/local/lib/python3.10/dist-packages (from tensorflow<2.16,>=2.15.0->tensorflow-text->SeqIO) (3.9.0)\n",
            "Requirement already satisfied: libclang>=13.0.0 in /usr/local/lib/python3.10/dist-packages (from tensorflow<2.16,>=2.15.0->tensorflow-text->SeqIO) (16.0.6)\n",
            "INFO: pip is looking at multiple versions of tensorflow to determine which version is compatible with other requirements. This could take a while.\n",
            "Collecting tensorflow<2.16,>=2.15.0 (from tensorflow-text->SeqIO)\n",
            "  Downloading tensorflow-2.15.0.post1-cp310-cp310-manylinux_2_17_x86_64.manylinux2014_x86_64.whl (475.2 MB)\n",
            "\u001b[2K     \u001b[90m━━━━━━━━━━━━━━━━━━━━━━━━━━━━━━━━━━━━━━━━\u001b[0m \u001b[32m475.2/475.2 MB\u001b[0m \u001b[31m1.8 MB/s\u001b[0m eta \u001b[36m0:00:00\u001b[0m\n",
            "\u001b[?25hCollecting scipy>=1.9 (from jax->SeqIO)\n",
            "  Downloading scipy-1.12.0-cp310-cp310-manylinux_2_17_x86_64.manylinux2014_x86_64.whl (38.4 MB)\n",
            "\u001b[2K     \u001b[90m━━━━━━━━━━━━━━━━━━━━━━━━━━━━━━━━━━━━━━━━\u001b[0m \u001b[32m38.4/38.4 MB\u001b[0m \u001b[31m29.0 MB/s\u001b[0m eta \u001b[36m0:00:00\u001b[0m\n",
            "\u001b[?25h  Downloading scipy-1.11.4-cp310-cp310-manylinux_2_17_x86_64.manylinux2014_x86_64.whl (36.4 MB)\n",
            "\u001b[2K     \u001b[90m━━━━━━━━━━━━━━━━━━━━━━━━━━━━━━━━━━━━━━━━\u001b[0m \u001b[32m36.4/36.4 MB\u001b[0m \u001b[31m9.4 MB/s\u001b[0m eta \u001b[36m0:00:00\u001b[0m\n",
            "\u001b[?25h  Downloading scipy-1.11.3-cp310-cp310-manylinux_2_17_x86_64.manylinux2014_x86_64.whl (36.4 MB)\n",
            "\u001b[2K     \u001b[90m━━━━━━━━━━━━━━━━━━━━━━━━━━━━━━━━━━━━━━━━\u001b[0m \u001b[32m36.4/36.4 MB\u001b[0m \u001b[31m20.7 MB/s\u001b[0m eta \u001b[36m0:00:00\u001b[0m\n",
            "\u001b[?25hINFO: pip is looking at multiple versions of tensorflow to determine which version is compatible with other requirements. This could take a while.\n",
            "  Downloading scipy-1.11.2-cp310-cp310-manylinux_2_17_x86_64.manylinux2014_x86_64.whl (36.3 MB)\n",
            "\u001b[2K     \u001b[90m━━━━━━━━━━━━━━━━━━━━━━━━━━━━━━━━━━━━━━━━\u001b[0m \u001b[32m36.3/36.3 MB\u001b[0m \u001b[31m10.6 MB/s\u001b[0m eta \u001b[36m0:00:00\u001b[0m\n",
            "\u001b[?25h  Downloading scipy-1.11.1-cp310-cp310-manylinux_2_17_x86_64.manylinux2014_x86_64.whl (36.3 MB)\n",
            "\u001b[2K     \u001b[90m━━━━━━━━━━━━━━━━━━━━━━━━━━━━━━━━━━━━━━━━\u001b[0m \u001b[32m36.3/36.3 MB\u001b[0m \u001b[31m31.2 MB/s\u001b[0m eta \u001b[36m0:00:00\u001b[0m\n",
            "\u001b[?25h  Downloading scipy-1.10.1-cp310-cp310-manylinux_2_17_x86_64.manylinux2014_x86_64.whl (34.4 MB)\n",
            "\u001b[2K     \u001b[90m━━━━━━━━━━━━━━━━━━━━━━━━━━━━━━━━━━━━━━━━\u001b[0m \u001b[32m34.4/34.4 MB\u001b[0m \u001b[31m12.0 MB/s\u001b[0m eta \u001b[36m0:00:00\u001b[0m\n",
            "\u001b[?25hINFO: This is taking longer than usual. You might need to provide the dependency resolver with stricter constraints to reduce runtime. See https://pip.pypa.io/warnings/backtracking for guidance. If you want to abort this run, press Ctrl + C.\n",
            "  Downloading scipy-1.10.0-cp310-cp310-manylinux_2_17_x86_64.manylinux2014_x86_64.whl (34.4 MB)\n",
            "\u001b[2K     \u001b[90m━━━━━━━━━━━━━━━━━━━━━━━━━━━━━━━━━━━━━━━━\u001b[0m \u001b[32m34.4/34.4 MB\u001b[0m \u001b[31m26.6 MB/s\u001b[0m eta \u001b[36m0:00:00\u001b[0m\n",
            "\u001b[?25h  Downloading scipy-1.9.3-cp310-cp310-manylinux_2_17_x86_64.manylinux2014_x86_64.whl (33.7 MB)\n",
            "\u001b[2K     \u001b[90m━━━━━━━━━━━━━━━━━━━━━━━━━━━━━━━━━━━━━━━━\u001b[0m \u001b[32m33.7/33.7 MB\u001b[0m \u001b[31m9.9 MB/s\u001b[0m eta \u001b[36m0:00:00\u001b[0m\n",
            "\u001b[?25h  Downloading scipy-1.9.2-cp310-cp310-manylinux_2_17_x86_64.manylinux2014_x86_64.whl (33.7 MB)\n",
            "\u001b[2K     \u001b[90m━━━━━━━━━━━━━━━━━━━━━━━━━━━━━━━━━━━━━━━━\u001b[0m \u001b[32m33.7/33.7 MB\u001b[0m \u001b[31m22.6 MB/s\u001b[0m eta \u001b[36m0:00:00\u001b[0m\n",
            "\u001b[?25h  Downloading scipy-1.9.1-cp310-cp310-manylinux_2_17_x86_64.manylinux2014_x86_64.whl (43.9 MB)\n",
            "\u001b[2K     \u001b[90m━━━━━━━━━━━━━━━━━━━━━━━━━━━━━━━━━━━━━━━━\u001b[0m \u001b[32m43.9/43.9 MB\u001b[0m \u001b[31m8.9 MB/s\u001b[0m eta \u001b[36m0:00:00\u001b[0m\n",
            "\u001b[?25h  Downloading scipy-1.9.0-cp310-cp310-manylinux_2_17_x86_64.manylinux2014_x86_64.whl (43.9 MB)\n",
            "\u001b[2K     \u001b[90m━━━━━━━━━━━━━━━━━━━━━━━━━━━━━━━━━━━━━━━━\u001b[0m \u001b[32m43.9/43.9 MB\u001b[0m \u001b[31m13.0 MB/s\u001b[0m eta \u001b[36m0:00:00\u001b[0m\n",
            "\u001b[?25hCollecting ml-dtypes>=0.2.0 (from jax->SeqIO)\n",
            "  Downloading ml_dtypes-0.3.2-cp310-cp310-manylinux_2_17_x86_64.manylinux2014_x86_64.whl (2.2 MB)\n",
            "\u001b[2K     \u001b[90m━━━━━━━━━━━━━━━━━━━━━━━━━━━━━━━━━━━━━━━━\u001b[0m \u001b[32m2.2/2.2 MB\u001b[0m \u001b[31m33.3 MB/s\u001b[0m eta \u001b[36m0:00:00\u001b[0m\n",
            "\u001b[?25h  Downloading ml_dtypes-0.2.0-cp310-cp310-manylinux_2_17_x86_64.manylinux2014_x86_64.whl (1.0 MB)\n",
            "\u001b[2K     \u001b[90m━━━━━━━━━━━━━━━━━━━━━━━━━━━━━━━━━━━━━━━━\u001b[0m \u001b[32m1.0/1.0 MB\u001b[0m \u001b[31m25.5 MB/s\u001b[0m eta \u001b[36m0:00:00\u001b[0m\n",
            "\u001b[?25h  Downloading ml_dtypes-0.3.1-cp310-cp310-manylinux_2_17_x86_64.manylinux2014_x86_64.whl (206 kB)\n",
            "\u001b[2K     \u001b[90m━━━━━━━━━━━━━━━━━━━━━━━━━━━━━━━━━━━━━━━━\u001b[0m \u001b[32m206.7/206.7 kB\u001b[0m \u001b[31m16.1 MB/s\u001b[0m eta \u001b[36m0:00:00\u001b[0m\n",
            "\u001b[?25h  Downloading ml_dtypes-0.3.0-cp310-cp310-manylinux_2_17_x86_64.manylinux2014_x86_64.whl (206 kB)\n",
            "\u001b[2K     \u001b[90m━━━━━━━━━━━━━━━━━━━━━━━━━━━━━━━━━━━━━━━━\u001b[0m \u001b[32m206.6/206.6 kB\u001b[0m \u001b[31m14.5 MB/s\u001b[0m eta \u001b[36m0:00:00\u001b[0m\n",
            "\u001b[?25hCollecting etils[enp,epath,etree]>=0.9.0 (from tfds-nightly==4.9.2.dev202308090034->SeqIO)\n",
            "  Downloading etils-1.7.0-py3-none-any.whl (152 kB)\n",
            "\u001b[2K     \u001b[90m━━━━━━━━━━━━━━━━━━━━━━━━━━━━━━━━━━━━━━━━\u001b[0m \u001b[32m152.4/152.4 kB\u001b[0m \u001b[31m14.9 MB/s\u001b[0m eta \u001b[36m0:00:00\u001b[0m\n",
            "\u001b[?25h  Downloading etils-1.6.0-py3-none-any.whl (144 kB)\n",
            "\u001b[2K     \u001b[90m━━━━━━━━━━━━━━━━━━━━━━━━━━━━━━━━━━━━━━━━\u001b[0m \u001b[32m144.9/144.9 kB\u001b[0m \u001b[31m14.0 MB/s\u001b[0m eta \u001b[36m0:00:00\u001b[0m\n",
            "\u001b[?25h  Downloading etils-1.5.2-py3-none-any.whl (140 kB)\n",
            "\u001b[2K     \u001b[90m━━━━━━━━━━━━━━━━━━━━━━━━━━━━━━━━━━━━━━━━\u001b[0m \u001b[32m140.6/140.6 kB\u001b[0m \u001b[31m15.5 MB/s\u001b[0m eta \u001b[36m0:00:00\u001b[0m\n",
            "\u001b[?25h  Downloading etils-1.5.1-py3-none-any.whl (140 kB)\n",
            "\u001b[2K     \u001b[90m━━━━━━━━━━━━━━━━━━━━━━━━━━━━━━━━━━━━━━━━\u001b[0m \u001b[32m140.5/140.5 kB\u001b[0m \u001b[31m15.6 MB/s\u001b[0m eta \u001b[36m0:00:00\u001b[0m\n",
            "\u001b[?25h  Downloading etils-1.5.0-py3-none-any.whl (140 kB)\n",
            "\u001b[2K     \u001b[90m━━━━━━━━━━━━━━━━━━━━━━━━━━━━━━━━━━━━━━━━\u001b[0m \u001b[32m140.3/140.3 kB\u001b[0m \u001b[31m14.2 MB/s\u001b[0m eta \u001b[36m0:00:00\u001b[0m\n",
            "\u001b[?25h  Downloading etils-1.4.1-py3-none-any.whl (135 kB)\n",
            "\u001b[2K     \u001b[90m━━━━━━━━━━━━━━━━━━━━━━━━━━━━━━━━━━━━━━━━\u001b[0m \u001b[32m135.8/135.8 kB\u001b[0m \u001b[31m12.9 MB/s\u001b[0m eta \u001b[36m0:00:00\u001b[0m\n",
            "\u001b[?25h  Downloading etils-1.4.0-py3-none-any.whl (135 kB)\n",
            "\u001b[2K     \u001b[90m━━━━━━━━━━━━━━━━━━━━━━━━━━━━━━━━━━━━━━━━\u001b[0m \u001b[32m135.7/135.7 kB\u001b[0m \u001b[31m14.3 MB/s\u001b[0m eta \u001b[36m0:00:00\u001b[0m\n",
            "\u001b[?25h  Downloading etils-1.3.0-py3-none-any.whl (126 kB)\n",
            "\u001b[2K     \u001b[90m━━━━━━━━━━━━━━━━━━━━━━━━━━━━━━━━━━━━━━━━\u001b[0m \u001b[32m126.4/126.4 kB\u001b[0m \u001b[31m13.0 MB/s\u001b[0m eta \u001b[36m0:00:00\u001b[0m\n",
            "\u001b[?25h  Downloading etils-1.2.0-py3-none-any.whl (120 kB)\n",
            "\u001b[2K     \u001b[90m━━━━━━━━━━━━━━━━━━━━━━━━━━━━━━━━━━━━━━━━\u001b[0m \u001b[32m120.6/120.6 kB\u001b[0m \u001b[31m12.0 MB/s\u001b[0m eta \u001b[36m0:00:00\u001b[0m\n",
            "\u001b[?25h  Downloading etils-1.1.1-py3-none-any.whl (115 kB)\n",
            "\u001b[2K     \u001b[90m━━━━━━━━━━━━━━━━━━━━━━━━━━━━━━━━━━━━━━━━\u001b[0m \u001b[32m115.4/115.4 kB\u001b[0m \u001b[31m12.1 MB/s\u001b[0m eta \u001b[36m0:00:00\u001b[0m\n",
            "\u001b[?25h  Downloading etils-1.1.0-py3-none-any.whl (124 kB)\n",
            "\u001b[2K     \u001b[90m━━━━━━━━━━━━━━━━━━━━━━━━━━━━━━━━━━━━━━━━\u001b[0m \u001b[32m124.4/124.4 kB\u001b[0m \u001b[31m12.1 MB/s\u001b[0m eta \u001b[36m0:00:00\u001b[0m\n",
            "\u001b[?25h  Downloading etils-1.0.0-py3-none-any.whl (146 kB)\n",
            "\u001b[2K     \u001b[90m━━━━━━━━━━━━━━━━━━━━━━━━━━━━━━━━━━━━━━━━\u001b[0m \u001b[32m146.5/146.5 kB\u001b[0m \u001b[31m13.0 MB/s\u001b[0m eta \u001b[36m0:00:00\u001b[0m\n",
            "\u001b[?25h  Downloading etils-0.9.0-py3-none-any.whl (140 kB)\n",
            "\u001b[2K     \u001b[90m━━━━━━━━━━━━━━━━━━━━━━━━━━━━━━━━━━━━━━━━\u001b[0m \u001b[32m140.1/140.1 kB\u001b[0m \u001b[31m13.6 MB/s\u001b[0m eta \u001b[36m0:00:00\u001b[0m\n",
            "\u001b[?25hCollecting tensorflow-text (from SeqIO)\n",
            "  Downloading tensorflow_text-2.14.0-cp310-cp310-manylinux_2_17_x86_64.manylinux2014_x86_64.whl (6.5 MB)\n",
            "\u001b[2K     \u001b[90m━━━━━━━━━━━━━━━━━━━━━━━━━━━━━━━━━━━━━━━━\u001b[0m \u001b[32m6.5/6.5 MB\u001b[0m \u001b[31m37.9 MB/s\u001b[0m eta \u001b[36m0:00:00\u001b[0m\n",
            "\u001b[?25hCollecting tensorflow<2.15,>=2.14.0 (from tensorflow-text->SeqIO)\n",
            "  Downloading tensorflow-2.14.1-cp310-cp310-manylinux_2_17_x86_64.manylinux2014_x86_64.whl (489.9 MB)\n",
            "\u001b[2K     \u001b[90m━━━━━━━━━━━━━━━━━━━━━━━━━━━━━━━━━━━━━━━━\u001b[0m \u001b[32m489.9/489.9 MB\u001b[0m \u001b[31m2.4 MB/s\u001b[0m eta \u001b[36m0:00:00\u001b[0m\n",
            "\u001b[?25h  Downloading tensorflow-2.14.0-cp310-cp310-manylinux_2_17_x86_64.manylinux2014_x86_64.whl (489.8 MB)\n",
            "\u001b[2K     \u001b[90m━━━━━━━━━━━━━━━━━━━━━━━━━━━━━━━━━━━━━━━━\u001b[0m \u001b[32m489.8/489.8 MB\u001b[0m \u001b[31m2.1 MB/s\u001b[0m eta \u001b[36m0:00:00\u001b[0m\n",
            "\u001b[?25hCollecting tensorflow-text (from SeqIO)\n",
            "  Downloading tensorflow_text-2.13.0-cp310-cp310-manylinux_2_17_x86_64.manylinux2014_x86_64.whl (6.5 MB)\n",
            "\u001b[2K     \u001b[90m━━━━━━━━━━━━━━━━━━━━━━━━━━━━━━━━━━━━━━━━\u001b[0m \u001b[32m6.5/6.5 MB\u001b[0m \u001b[31m26.0 MB/s\u001b[0m eta \u001b[36m0:00:00\u001b[0m\n",
            "\u001b[?25hCollecting tensorflow<2.14,>=2.13.0 (from tensorflow-text->SeqIO)\n",
            "  Downloading tensorflow-2.13.1-cp310-cp310-manylinux_2_17_x86_64.manylinux2014_x86_64.whl (479.7 MB)\n",
            "\u001b[2K     \u001b[90m━━━━━━━━━━━━━━━━━━━━━━━━━━━━━━━━━━━━━━━━\u001b[0m \u001b[32m479.7/479.7 MB\u001b[0m \u001b[31m2.0 MB/s\u001b[0m eta \u001b[36m0:00:00\u001b[0m\n",
            "\u001b[?25hCollecting gast<=0.4.0,>=0.2.1 (from tensorflow<2.14,>=2.13.0->tensorflow-text->SeqIO)\n",
            "  Downloading gast-0.4.0-py3-none-any.whl (9.8 kB)\n",
            "Requirement already satisfied: grpcio<2.0,>=1.24.3 in /usr/local/lib/python3.10/dist-packages (from tensorflow<2.14,>=2.13.0->tensorflow-text->SeqIO) (1.60.1)\n",
            "Collecting keras<2.14,>=2.13.1 (from tensorflow<2.14,>=2.13.0->tensorflow-text->SeqIO)\n",
            "  Downloading keras-2.13.1-py3-none-any.whl (1.7 MB)\n",
            "\u001b[2K     \u001b[90m━━━━━━━━━━━━━━━━━━━━━━━━━━━━━━━━━━━━━━━━\u001b[0m \u001b[32m1.7/1.7 MB\u001b[0m \u001b[31m50.9 MB/s\u001b[0m eta \u001b[36m0:00:00\u001b[0m\n",
            "\u001b[?25hRequirement already satisfied: setuptools in /usr/local/lib/python3.10/dist-packages (from tensorflow<2.14,>=2.13.0->tensorflow-text->SeqIO) (67.7.2)\n",
            "Requirement already satisfied: six>=1.12.0 in /usr/local/lib/python3.10/dist-packages (from tensorflow<2.14,>=2.13.0->tensorflow-text->SeqIO) (1.16.0)\n",
            "Collecting tensorboard<2.14,>=2.13 (from tensorflow<2.14,>=2.13.0->tensorflow-text->SeqIO)\n",
            "  Downloading tensorboard-2.13.0-py3-none-any.whl (5.6 MB)\n",
            "\u001b[2K     \u001b[90m━━━━━━━━━━━━━━━━━━━━━━━━━━━━━━━━━━━━━━━━\u001b[0m \u001b[32m5.6/5.6 MB\u001b[0m \u001b[31m48.5 MB/s\u001b[0m eta \u001b[36m0:00:00\u001b[0m\n",
            "\u001b[?25hCollecting tensorflow-estimator<2.14,>=2.13.0 (from tensorflow<2.14,>=2.13.0->tensorflow-text->SeqIO)\n",
            "  Downloading tensorflow_estimator-2.13.0-py2.py3-none-any.whl (440 kB)\n",
            "\u001b[2K     \u001b[90m━━━━━━━━━━━━━━━━━━━━━━━━━━━━━━━━━━━━━━━━\u001b[0m \u001b[32m440.8/440.8 kB\u001b[0m \u001b[31m41.2 MB/s\u001b[0m eta \u001b[36m0:00:00\u001b[0m\n",
            "\u001b[?25hCollecting typing-extensions (from clu->SeqIO)\n",
            "  Downloading typing_extensions-4.5.0-py3-none-any.whl (27 kB)\n",
            "Requirement already satisfied: tensorflow-io-gcs-filesystem>=0.23.1 in /usr/local/lib/python3.10/dist-packages (from tensorflow<2.14,>=2.13.0->tensorflow-text->SeqIO) (0.36.0)\n",
            "Requirement already satisfied: tf-keras>=2.14.1 in /usr/local/lib/python3.10/dist-packages (from tensorflow-hub>=0.13.0->tensorflow-text->SeqIO) (2.15.0)\n",
            "Requirement already satisfied: msgpack in /usr/local/lib/python3.10/dist-packages (from flax->clu->SeqIO) (1.0.7)\n",
            "Requirement already satisfied: optax in /usr/local/lib/python3.10/dist-packages (from flax->clu->SeqIO) (0.1.9)\n",
            "Requirement already satisfied: orbax-checkpoint in /usr/local/lib/python3.10/dist-packages (from flax->clu->SeqIO) (0.4.4)\n",
            "Requirement already satisfied: tensorstore in /usr/local/lib/python3.10/dist-packages (from flax->clu->SeqIO) (0.1.45)\n",
            "Requirement already satisfied: rich>=11.1 in /usr/local/lib/python3.10/dist-packages (from flax->clu->SeqIO) (13.7.0)\n",
            "Requirement already satisfied: PyYAML>=5.4.1 in /usr/local/lib/python3.10/dist-packages (from flax->clu->SeqIO) (6.0.1)\n",
            "Requirement already satisfied: contextlib2 in /usr/local/lib/python3.10/dist-packages (from ml-collections->clu->SeqIO) (21.6.0)\n",
            "Requirement already satisfied: googleapis-common-protos<2,>=1.52.0 in /usr/local/lib/python3.10/dist-packages (from tensorflow-metadata->tfds-nightly==4.9.2.dev202308090034->SeqIO) (1.62.0)\n",
            "Requirement already satisfied: wheel<1.0,>=0.23.0 in /usr/local/lib/python3.10/dist-packages (from astunparse>=1.6.0->tensorflow<2.16,>=2.15.0->tensorflow-text->SeqIO) (0.42.0)\n",
            "Requirement already satisfied: markdown-it-py>=2.2.0 in /usr/local/lib/python3.10/dist-packages (from rich>=11.1->flax->clu->SeqIO) (3.0.0)\n",
            "Requirement already satisfied: pygments<3.0.0,>=2.13.0 in /usr/local/lib/python3.10/dist-packages (from rich>=11.1->flax->clu->SeqIO) (2.16.1)\n",
            "Requirement already satisfied: google-auth<3,>=1.6.3 in /usr/local/lib/python3.10/dist-packages (from tensorboard<2.14,>=2.13->tensorflow<2.14,>=2.13.0->tensorflow-text->SeqIO) (2.27.0)\n",
            "Collecting google-auth-oauthlib<1.1,>=0.5 (from tensorboard<2.14,>=2.13->tensorflow<2.14,>=2.13.0->tensorflow-text->SeqIO)\n",
            "  Downloading google_auth_oauthlib-1.0.0-py2.py3-none-any.whl (18 kB)\n",
            "Requirement already satisfied: markdown>=2.6.8 in /usr/local/lib/python3.10/dist-packages (from tensorboard<2.14,>=2.13->tensorflow<2.14,>=2.13.0->tensorflow-text->SeqIO) (3.5.2)\n",
            "Requirement already satisfied: tensorboard-data-server<0.8.0,>=0.7.0 in /usr/local/lib/python3.10/dist-packages (from tensorboard<2.14,>=2.13->tensorflow<2.14,>=2.13.0->tensorflow-text->SeqIO) (0.7.2)\n",
            "Requirement already satisfied: werkzeug>=1.0.1 in /usr/local/lib/python3.10/dist-packages (from tensorboard<2.14,>=2.13->tensorflow<2.14,>=2.13.0->tensorflow-text->SeqIO) (3.0.1)\n",
            "Requirement already satisfied: chex>=0.1.7 in /usr/local/lib/python3.10/dist-packages (from optax->flax->clu->SeqIO) (0.1.85)\n",
            "Requirement already satisfied: nest_asyncio in /usr/local/lib/python3.10/dist-packages (from orbax-checkpoint->flax->clu->SeqIO) (1.6.0)\n",
            "INFO: pip is looking at multiple versions of chex to determine which version is compatible with other requirements. This could take a while.\n",
            "Collecting chex>=0.1.7 (from optax->flax->clu->SeqIO)\n",
            "  Downloading chex-0.1.84-py3-none-any.whl (94 kB)\n",
            "\u001b[2K     \u001b[90m━━━━━━━━━━━━━━━━━━━━━━━━━━━━━━━━━━━━━━━━\u001b[0m \u001b[32m94.8/94.8 kB\u001b[0m \u001b[31m10.2 MB/s\u001b[0m eta \u001b[36m0:00:00\u001b[0m\n",
            "\u001b[?25h  Downloading chex-0.1.83-py3-none-any.whl (94 kB)\n",
            "\u001b[2K     \u001b[90m━━━━━━━━━━━━━━━━━━━━━━━━━━━━━━━━━━━━━━━━\u001b[0m \u001b[32m94.7/94.7 kB\u001b[0m \u001b[31m9.9 MB/s\u001b[0m eta \u001b[36m0:00:00\u001b[0m\n",
            "\u001b[?25h  Downloading chex-0.1.82-py3-none-any.whl (94 kB)\n",
            "\u001b[2K     \u001b[90m━━━━━━━━━━━━━━━━━━━━━━━━━━━━━━━━━━━━━━━━\u001b[0m \u001b[32m94.8/94.8 kB\u001b[0m \u001b[31m9.8 MB/s\u001b[0m eta \u001b[36m0:00:00\u001b[0m\n",
            "\u001b[?25h  Downloading chex-0.1.81-py3-none-any.whl (94 kB)\n",
            "\u001b[2K     \u001b[90m━━━━━━━━━━━━━━━━━━━━━━━━━━━━━━━━━━━━━━━━\u001b[0m \u001b[32m94.5/94.5 kB\u001b[0m \u001b[31m9.3 MB/s\u001b[0m eta \u001b[36m0:00:00\u001b[0m\n",
            "\u001b[?25h  Downloading chex-0.1.7-py3-none-any.whl (89 kB)\n",
            "\u001b[2K     \u001b[90m━━━━━━━━━━━━━━━━━━━━━━━━━━━━━━━━━━━━━━━━\u001b[0m \u001b[32m89.6/89.6 kB\u001b[0m \u001b[31m10.2 MB/s\u001b[0m eta \u001b[36m0:00:00\u001b[0m\n",
            "\u001b[?25hRequirement already satisfied: toolz>=0.9.0 in /usr/local/lib/python3.10/dist-packages (from chex>=0.1.7->optax->flax->clu->SeqIO) (0.12.1)\n",
            "Requirement already satisfied: cachetools<6.0,>=2.0.0 in /usr/local/lib/python3.10/dist-packages (from google-auth<3,>=1.6.3->tensorboard<2.14,>=2.13->tensorflow<2.14,>=2.13.0->tensorflow-text->SeqIO) (5.3.2)\n",
            "Requirement already satisfied: pyasn1-modules>=0.2.1 in /usr/local/lib/python3.10/dist-packages (from google-auth<3,>=1.6.3->tensorboard<2.14,>=2.13->tensorflow<2.14,>=2.13.0->tensorflow-text->SeqIO) (0.3.0)\n",
            "Requirement already satisfied: rsa<5,>=3.1.4 in /usr/local/lib/python3.10/dist-packages (from google-auth<3,>=1.6.3->tensorboard<2.14,>=2.13->tensorflow<2.14,>=2.13.0->tensorflow-text->SeqIO) (4.9)\n",
            "Requirement already satisfied: requests-oauthlib>=0.7.0 in /usr/local/lib/python3.10/dist-packages (from google-auth-oauthlib<1.1,>=0.5->tensorboard<2.14,>=2.13->tensorflow<2.14,>=2.13.0->tensorflow-text->SeqIO) (1.3.1)\n",
            "Requirement already satisfied: mdurl~=0.1 in /usr/local/lib/python3.10/dist-packages (from markdown-it-py>=2.2.0->rich>=11.1->flax->clu->SeqIO) (0.1.2)\n",
            "Requirement already satisfied: MarkupSafe>=2.1.1 in /usr/local/lib/python3.10/dist-packages (from werkzeug>=1.0.1->tensorboard<2.14,>=2.13->tensorflow<2.14,>=2.13.0->tensorflow-text->SeqIO) (2.1.5)\n",
            "Requirement already satisfied: pyasn1<0.6.0,>=0.4.6 in /usr/local/lib/python3.10/dist-packages (from pyasn1-modules>=0.2.1->google-auth<3,>=1.6.3->tensorboard<2.14,>=2.13->tensorflow<2.14,>=2.13.0->tensorflow-text->SeqIO) (0.5.1)\n",
            "Requirement already satisfied: oauthlib>=3.0.0 in /usr/local/lib/python3.10/dist-packages (from requests-oauthlib>=0.7.0->google-auth-oauthlib<1.1,>=0.5->tensorboard<2.14,>=2.13->tensorflow<2.14,>=2.13.0->tensorflow-text->SeqIO) (3.2.2)\n",
            "Building wheels for collected packages: ml-collections\n",
            "  Building wheel for ml-collections (setup.py) ... \u001b[?25l\u001b[?25hdone\n",
            "  Created wheel for ml-collections: filename=ml_collections-0.1.1-py3-none-any.whl size=94505 sha256=dd938ec6ea1c32acaf6932bda77ef3b03b281008b0e6673b72933a8a1f4341cf\n",
            "  Stored in directory: /root/.cache/pip/wheels/7b/89/c9/a9b87790789e94aadcfc393c283e3ecd5ab916aed0a31be8fe\n",
            "Successfully built ml-collections\n",
            "Installing collected packages: typing-extensions, tensorflow-estimator, numpy, ml-collections, keras, gast, docstring-parser, pyglove, google-auth-oauthlib, tensorboard, chex, tensorflow, tfds-nightly, tensorflow-text, clu, SeqIO\n",
            "  Attempting uninstall: typing-extensions\n",
            "    Found existing installation: typing_extensions 4.9.0\n",
            "    Uninstalling typing_extensions-4.9.0:\n",
            "      Successfully uninstalled typing_extensions-4.9.0\n",
            "  Attempting uninstall: tensorflow-estimator\n",
            "    Found existing installation: tensorflow-estimator 2.15.0\n",
            "    Uninstalling tensorflow-estimator-2.15.0:\n",
            "      Successfully uninstalled tensorflow-estimator-2.15.0\n",
            "  Attempting uninstall: numpy\n",
            "    Found existing installation: numpy 1.25.2\n",
            "    Uninstalling numpy-1.25.2:\n",
            "      Successfully uninstalled numpy-1.25.2\n",
            "  Attempting uninstall: keras\n",
            "    Found existing installation: keras 2.15.0\n",
            "    Uninstalling keras-2.15.0:\n",
            "      Successfully uninstalled keras-2.15.0\n",
            "  Attempting uninstall: gast\n",
            "    Found existing installation: gast 0.5.4\n",
            "    Uninstalling gast-0.5.4:\n",
            "      Successfully uninstalled gast-0.5.4\n",
            "  Attempting uninstall: google-auth-oauthlib\n",
            "    Found existing installation: google-auth-oauthlib 1.2.0\n",
            "    Uninstalling google-auth-oauthlib-1.2.0:\n",
            "      Successfully uninstalled google-auth-oauthlib-1.2.0\n",
            "  Attempting uninstall: tensorboard\n",
            "    Found existing installation: tensorboard 2.15.2\n",
            "    Uninstalling tensorboard-2.15.2:\n",
            "      Successfully uninstalled tensorboard-2.15.2\n",
            "  Attempting uninstall: chex\n",
            "    Found existing installation: chex 0.1.85\n",
            "    Uninstalling chex-0.1.85:\n",
            "      Successfully uninstalled chex-0.1.85\n",
            "  Attempting uninstall: tensorflow\n",
            "    Found existing installation: tensorflow 2.15.0\n",
            "    Uninstalling tensorflow-2.15.0:\n",
            "      Successfully uninstalled tensorflow-2.15.0\n",
            "\u001b[31mERROR: pip's dependency resolver does not currently take into account all the packages that are installed. This behaviour is the source of the following dependency conflicts.\n",
            "lida 0.0.10 requires fastapi, which is not installed.\n",
            "lida 0.0.10 requires kaleido, which is not installed.\n",
            "lida 0.0.10 requires python-multipart, which is not installed.\n",
            "lida 0.0.10 requires uvicorn, which is not installed.\n",
            "sqlalchemy 2.0.27 requires typing-extensions>=4.6.0, but you have typing-extensions 4.5.0 which is incompatible.\n",
            "pydantic 2.6.1 requires typing-extensions>=4.6.1, but you have typing-extensions 4.5.0 which is incompatible.\n",
            "pydantic-core 2.16.2 requires typing-extensions!=4.7.0,>=4.6.0, but you have typing-extensions 4.5.0 which is incompatible.\u001b[0m\u001b[31m\n",
            "\u001b[0mSuccessfully installed SeqIO-0.0.19 chex-0.1.7 clu-0.0.10 docstring-parser-0.15 gast-0.4.0 google-auth-oauthlib-1.0.0 keras-2.13.1 ml-collections-0.1.1 numpy-1.23.1 pyglove-0.4.4 tensorboard-2.13.0 tensorflow-2.13.1 tensorflow-estimator-2.13.0 tensorflow-text-2.13.0 tfds-nightly-4.9.2.dev202308090034 typing-extensions-4.5.0\n"
          ]
        },
        {
          "output_type": "display_data",
          "data": {
            "application/vnd.colab-display-data+json": {
              "pip_warning": {
                "packages": [
                  "numpy"
                ]
              }
            }
          },
          "metadata": {}
        },
        {
          "output_type": "stream",
          "name": "stdout",
          "text": [
            "Collecting Bio\n",
            "  Downloading bio-1.6.2-py3-none-any.whl (278 kB)\n",
            "\u001b[2K     \u001b[90m━━━━━━━━━━━━━━━━━━━━━━━━━━━━━━━━━━━━━━━━\u001b[0m \u001b[32m278.6/278.6 kB\u001b[0m \u001b[31m2.3 MB/s\u001b[0m eta \u001b[36m0:00:00\u001b[0m\n",
            "\u001b[?25hCollecting biopython>=1.80 (from Bio)\n",
            "  Downloading biopython-1.83-cp310-cp310-manylinux_2_17_x86_64.manylinux2014_x86_64.whl (3.1 MB)\n",
            "\u001b[2K     \u001b[90m━━━━━━━━━━━━━━━━━━━━━━━━━━━━━━━━━━━━━━━━\u001b[0m \u001b[32m3.1/3.1 MB\u001b[0m \u001b[31m20.8 MB/s\u001b[0m eta \u001b[36m0:00:00\u001b[0m\n",
            "\u001b[?25hRequirement already satisfied: requests in /usr/local/lib/python3.10/dist-packages (from Bio) (2.31.0)\n",
            "Requirement already satisfied: tqdm in /usr/local/lib/python3.10/dist-packages (from Bio) (4.66.2)\n",
            "Collecting mygene (from Bio)\n",
            "  Downloading mygene-3.2.2-py2.py3-none-any.whl (5.4 kB)\n",
            "Requirement already satisfied: pandas in /usr/local/lib/python3.10/dist-packages (from Bio) (1.5.3)\n",
            "Requirement already satisfied: pooch in /usr/local/lib/python3.10/dist-packages (from Bio) (1.8.0)\n",
            "Collecting gprofiler-official (from Bio)\n",
            "  Downloading gprofiler_official-1.0.0-py3-none-any.whl (9.3 kB)\n",
            "Requirement already satisfied: numpy in /usr/local/lib/python3.10/dist-packages (from biopython>=1.80->Bio) (1.23.1)\n",
            "Collecting biothings-client>=0.2.6 (from mygene->Bio)\n",
            "  Downloading biothings_client-0.3.1-py2.py3-none-any.whl (29 kB)\n",
            "Requirement already satisfied: python-dateutil>=2.8.1 in /usr/local/lib/python3.10/dist-packages (from pandas->Bio) (2.8.2)\n",
            "Requirement already satisfied: pytz>=2020.1 in /usr/local/lib/python3.10/dist-packages (from pandas->Bio) (2023.4)\n",
            "Requirement already satisfied: platformdirs>=2.5.0 in /usr/local/lib/python3.10/dist-packages (from pooch->Bio) (4.2.0)\n",
            "Requirement already satisfied: packaging>=20.0 in /usr/local/lib/python3.10/dist-packages (from pooch->Bio) (23.2)\n",
            "Requirement already satisfied: charset-normalizer<4,>=2 in /usr/local/lib/python3.10/dist-packages (from requests->Bio) (3.3.2)\n",
            "Requirement already satisfied: idna<4,>=2.5 in /usr/local/lib/python3.10/dist-packages (from requests->Bio) (3.6)\n",
            "Requirement already satisfied: urllib3<3,>=1.21.1 in /usr/local/lib/python3.10/dist-packages (from requests->Bio) (2.0.7)\n",
            "Requirement already satisfied: certifi>=2017.4.17 in /usr/local/lib/python3.10/dist-packages (from requests->Bio) (2024.2.2)\n",
            "Requirement already satisfied: six>=1.5 in /usr/local/lib/python3.10/dist-packages (from python-dateutil>=2.8.1->pandas->Bio) (1.16.0)\n",
            "Installing collected packages: biopython, gprofiler-official, biothings-client, mygene, Bio\n",
            "Successfully installed Bio-1.6.2 biopython-1.83 biothings-client-0.3.1 gprofiler-official-1.0.0 mygene-3.2.2\n"
          ]
        }
      ]
    },
    {
      "cell_type": "code",
      "source": [],
      "metadata": {
        "id": "54lubnqNUIFA"
      },
      "execution_count": null,
      "outputs": []
    },
    {
      "cell_type": "code",
      "execution_count": 1,
      "metadata": {
        "colab": {
          "base_uri": "https://localhost:8080/"
        },
        "id": "PARrQ8s3DqQP",
        "outputId": "bfbcdde6-5121-4499-b8d5-b3fa921e1bfc"
      },
      "outputs": [
        {
          "output_type": "stream",
          "name": "stdout",
          "text": [
            "208 224 217 192\n"
          ]
        }
      ],
      "source": [
        "# count ACGT in input string\n",
        "import pandas\n",
        "import numpy as np\n",
        "\n",
        "input_string = 'TACCTATACGTGGCGTATAACGCGCTTCGTCGCTTCATCACGGTGTTTGCGGAGTGAAACACGGAGGTCAAAAGTGGAAACGTCCGCTAAGATATGAACACGCAAAATGTGGGTCCGTCCTAATATTCAGCCCACACTGGGCTTGCTGAAGCTCGGTAGACGATGCACACCCACAGGCACAACTACGTTACGATTAGCAGTCTGTACTACCACGACCCCCCTTGGCGAAGTCAGAACGGTCACGTGACTGCAGCTTTTGGGATATAACATAAACGGGCATGCCTGACGGCCGCGATGACTTCCCACCTAGCGTCCAACCTGGGGCTGTACATGAACCGCGGCGCGTTAGTCGACGGTGTTGTAGCAGGGACAATCAGGTCGCGAGTTTTGTGCTGTTCGACAACATGTCTGGATCTTGCGTCGGGTGAGACCTCAAGGCAGTCGATGCACTGCCGTGAGCTGTTACCAGCGGTAATCGCCAGTTGCCGAACCAGTTACCGCATATCCCAGCCATTAATATACATTCAGGACGCTCCCTCGCCGATCATTCGGCGTAATGCTTGACTCACGCTGATTTGTGGACACCCACCGGACGTACCGGTACAGCCACCAAAGAAGTAACGGCCAGTCTGGTATTTCGGCCTGTGACCAGTAAGACTGACAAAACAAAACGACGGTCGTAGTCCTGTCGTAACGGTCAAACCACGTACATTCCCCCCTTACAGGACCACCGGTGTGCGTTGGTTTTTAACCTATAAACGGGTCTGCCAACGACGTACTTGTAGCGTGTGTGTTCATTACATATGGTCTAGGAATACGACGGGATGCGAGATAATAGTTA'\n",
        "#a_count, c_count,gcount,t_count = 0\n",
        "df = pandas.DataFrame(index=['A','C','G','T'], columns=['count'])\n",
        "df['count'] = np.zeros(4, dtype=\"int64\")\n",
        "print(input_string.count('A'), input_string.count('C'), input_string.count('G'), input_string.count('T'))\n"
      ]
    },
    {
      "cell_type": "code",
      "source": [
        "# convert DNA to RNA\n",
        "input_string = \"GAAGGACTCAACTACCTTATGCTGCGTTCCACAGTGGATCCAGCGCCCAATGTAAGGCCCCTACCCTTCATTTATTCTGGAGTGAAGAGTTTAGTAGACAGGTCATAGGAAAGTTATTGCATGAAGTCGGAGTTGTTGTAAGAGGCGATGCAATATTTATTAACTGCATCTGTTTGCAGGGTGGCTGTCGCTGGCCTGTTCGATCGATAGTTCGCTGGAGGAACAACAACAAGTATTCCTACCCGGGACAGGTACGGCGCATCCATCGTCCAAATATCGATTATTTGATAGGGTGGATGAAATGGCGGAGCTGAGCTGTGGGAGTCCCGGGTCGTCGACCTCCGGAGATGCGGTGAACGTATGTCAGAAACGTAACTCAGTGCTGTGGTCGTCGATTCCCATCCTAGACTCAACGTCCCTAAACATGTCGCTCGATTACCAGTACAGTAATTCGGTAACGGCTTAGCCGCGAGAGTCGAACCGCCTCACCAGTCTTCCCGAAGATACCCATCTACATCGACTCATGAACTATCTACAGGACCCCGGGTATTAGCGTCTTTCTACCTCTTCACTTTTGAAAATAGTTGGGAAAGTCTAACTTGAATCATCAAGATTCGGCGCTCGGGAGTAACGGGTGCGCCCGCTCAAGGGTATATTGAGCCACTAGCTGTAATGACTTAAAATGCCACATATCACCGGGTCCATTGCTCGCGTAACTATGTACTCGCGGAAGTGATTGATGCTCACTTTCACGTCATGCAACTAATTCTTTCCCGTACCTAAAACTTTTATACCTCAAGCACCCAGACCCGTCGCATCTTGCTTCTCTACCGCAACAGTAGGTATCTTGGTCCGTTATAAGATTCTGTAGTTCGCCTATCATACCTATGAACTGATTAAGCCTATGACCATCAAGCATGGTATTACCTTTGGCCATCCAAGATC\"\n",
        "print(input_string.replace('T', 'U'))"
      ],
      "metadata": {
        "colab": {
          "base_uri": "https://localhost:8080/"
        },
        "id": "6hrQIOpLPO05",
        "outputId": "65b5081f-847a-421c-ed40-8bda6eec4cd1"
      },
      "execution_count": null,
      "outputs": [
        {
          "output_type": "stream",
          "name": "stdout",
          "text": [
            "GAAGGACUCAACUACCUUAUGCUGCGUUCCACAGUGGAUCCAGCGCCCAAUGUAAGGCCCCUACCCUUCAUUUAUUCUGGAGUGAAGAGUUUAGUAGACAGGUCAUAGGAAAGUUAUUGCAUGAAGUCGGAGUUGUUGUAAGAGGCGAUGCAAUAUUUAUUAACUGCAUCUGUUUGCAGGGUGGCUGUCGCUGGCCUGUUCGAUCGAUAGUUCGCUGGAGGAACAACAACAAGUAUUCCUACCCGGGACAGGUACGGCGCAUCCAUCGUCCAAAUAUCGAUUAUUUGAUAGGGUGGAUGAAAUGGCGGAGCUGAGCUGUGGGAGUCCCGGGUCGUCGACCUCCGGAGAUGCGGUGAACGUAUGUCAGAAACGUAACUCAGUGCUGUGGUCGUCGAUUCCCAUCCUAGACUCAACGUCCCUAAACAUGUCGCUCGAUUACCAGUACAGUAAUUCGGUAACGGCUUAGCCGCGAGAGUCGAACCGCCUCACCAGUCUUCCCGAAGAUACCCAUCUACAUCGACUCAUGAACUAUCUACAGGACCCCGGGUAUUAGCGUCUUUCUACCUCUUCACUUUUGAAAAUAGUUGGGAAAGUCUAACUUGAAUCAUCAAGAUUCGGCGCUCGGGAGUAACGGGUGCGCCCGCUCAAGGGUAUAUUGAGCCACUAGCUGUAAUGACUUAAAAUGCCACAUAUCACCGGGUCCAUUGCUCGCGUAACUAUGUACUCGCGGAAGUGAUUGAUGCUCACUUUCACGUCAUGCAACUAAUUCUUUCCCGUACCUAAAACUUUUAUACCUCAAGCACCCAGACCCGUCGCAUCUUGCUUCUCUACCGCAACAGUAGGUAUCUUGGUCCGUUAUAAGAUUCUGUAGUUCGCCUAUCAUACCUAUGAACUGAUUAAGCCUAUGACCAUCAAGCAUGGUAUUACCUUUGGCCAUCCAAGAUC\n"
          ]
        }
      ]
    },
    {
      "cell_type": "code",
      "source": [
        "# reverseComplement DNA\n",
        "input_string = 'ACCGTTGGTCCACGCAGCTACTCATTTTAACGGAAGCCCACCAGTCTTTCCACAATGTACCGATGGGTCCGTCAGAAGCATGCCACAAATAGGATCCCTATTTCCCGTAATTCACCCCTTGGACGCCCTGTTCTTTACCATAGTTGAACCCAGTGATGGTGAACCATCTCCCTCTTAGGCCGCACGACACGCCACGCCTAGGAGTAAGCCCCCATCAATGCTGACCGAGCAGTGGTCGGAGCGATCACAGCAGCCACATGTCTCTTTGAGGGTCACTTCTTAAGCAGGTTCAGCTGGAGATACCAGACGGGGGGGACATTATGGCATAACACGCACGGATACCCGGTGCATGTGTACGTTCGATCGATGATGATCCTAGCTTTCCGTACACACTATTTCGTCTTGCGCTTGAAGTAACCTTCCTACGGCACATGCCGAATACCTGGTCCTTTTGTAATCCGCAGACCGTTTATCGTTATAATGGCTAGGAAGAGTAGGTCATATGATGCCGAGATCTGCTCGCGGGTATGATCTTATTCGGACTCCCGCGTCCAAAATTTGTTCTGCGTTTGGCTGCGGCTGTTAAAGCACCTCACTGAGCATATGTTAGAGACTAAACGATCAGTTGCGGTTAAGTGGCGACGCTAGAAAGGGAACCTCATGTCGGCGCTGGCGCATGGACCCCTACGGAGGAATAGGAGTGACAGGAAACAACGTAGGTTCTAGTTCAATGCCCAAATCAGTCAGTACATACTTTGTTGAGAGACGATTTACCTACCTCATCGAACCACGGCTTGCCTCACCGGGTACGAACAGCGCTCGGGGCCTTAATAGCGCATGTTATTAGGGCCCGTCGTATCAGTCGATTAGCGGTACAGGCTGTGAATATTTCGGTCGAGTCTAGCAATTGTACCAATGCCTACGAGGTGGGTGGTTTGGATCGGGA'\n",
        "\n",
        "\n",
        "print (input_string.replace('A','t').replace('C','g').replace('T','a').replace('G','c').upper()[::-1])\n"
      ],
      "metadata": {
        "colab": {
          "base_uri": "https://localhost:8080/"
        },
        "id": "sev6sv0rTJ4c",
        "outputId": "b8aaeadc-bfe9-4816-bb5f-d00534610de4"
      },
      "execution_count": 63,
      "outputs": [
        {
          "output_type": "stream",
          "name": "stdout",
          "text": [
            "TCCCGATCCAAACCACCCACCTCGTAGGCATTGGTACAATTGCTAGACTCGACCGAAATATTCACAGCCTGTACCGCTAATCGACTGATACGACGGGCCCTAATAACATGCGCTATTAAGGCCCCGAGCGCTGTTCGTACCCGGTGAGGCAAGCCGTGGTTCGATGAGGTAGGTAAATCGTCTCTCAACAAAGTATGTACTGACTGATTTGGGCATTGAACTAGAACCTACGTTGTTTCCTGTCACTCCTATTCCTCCGTAGGGGTCCATGCGCCAGCGCCGACATGAGGTTCCCTTTCTAGCGTCGCCACTTAACCGCAACTGATCGTTTAGTCTCTAACATATGCTCAGTGAGGTGCTTTAACAGCCGCAGCCAAACGCAGAACAAATTTTGGACGCGGGAGTCCGAATAAGATCATACCCGCGAGCAGATCTCGGCATCATATGACCTACTCTTCCTAGCCATTATAACGATAAACGGTCTGCGGATTACAAAAGGACCAGGTATTCGGCATGTGCCGTAGGAAGGTTACTTCAAGCGCAAGACGAAATAGTGTGTACGGAAAGCTAGGATCATCATCGATCGAACGTACACATGCACCGGGTATCCGTGCGTGTTATGCCATAATGTCCCCCCCGTCTGGTATCTCCAGCTGAACCTGCTTAAGAAGTGACCCTCAAAGAGACATGTGGCTGCTGTGATCGCTCCGACCACTGCTCGGTCAGCATTGATGGGGGCTTACTCCTAGGCGTGGCGTGTCGTGCGGCCTAAGAGGGAGATGGTTCACCATCACTGGGTTCAACTATGGTAAAGAACAGGGCGTCCAAGGGGTGAATTACGGGAAATAGGGATCCTATTTGTGGCATGCTTCTGACGGACCCATCGGTACATTGTGGAAAGACTGGTGGGCTTCCGTTAAAATGAGTAGCTGCGTGGACCAACGGT\n"
          ]
        }
      ]
    },
    {
      "cell_type": "code",
      "source": [
        "from io import FileIO\n",
        "# Find GC content for sequences in fasta file\n",
        "\n",
        "\n",
        "from Bio import SeqIO\n",
        "import numpy as np\n",
        "\n",
        "fastafile = open('/content/drive/My Drive/test.fasta', 'r')\n",
        "maxgc = 0.0\n",
        "id_maxgc = ''\n",
        "\n",
        "for seqrecord in SeqIO.parse('/content/drive/My Drive/test.fasta', format='fasta'):\n",
        "  seq = seqrecord.seq\n",
        "  id = seqrecord.id\n",
        "  gc = (seq.count('G') + seq.count('C'))/len(seq)\n",
        "  if (gc > maxgc) :\n",
        "    id_maxgc = id\n",
        "    maxgc = gc\n",
        "\n",
        "print(id_maxgc, '\\n', 100*maxgc)\n",
        "#os.listdir('/content/drive/My Drive/Colab Notebooks/')\n"
      ],
      "metadata": {
        "colab": {
          "base_uri": "https://localhost:8080/",
          "height": 378
        },
        "id": "modnTnt4a1MK",
        "outputId": "7de65c8b-48ca-4a99-b71e-dea838b12fcd"
      },
      "execution_count": 3,
      "outputs": [
        {
          "output_type": "error",
          "ename": "ModuleNotFoundError",
          "evalue": "No module named 'Bio'",
          "traceback": [
            "\u001b[0;31m---------------------------------------------------------------------------\u001b[0m",
            "\u001b[0;31mModuleNotFoundError\u001b[0m                       Traceback (most recent call last)",
            "\u001b[0;32m<ipython-input-3-1df434b05fc6>\u001b[0m in \u001b[0;36m<cell line: 5>\u001b[0;34m()\u001b[0m\n\u001b[1;32m      3\u001b[0m \u001b[0;34m\u001b[0m\u001b[0m\n\u001b[1;32m      4\u001b[0m \u001b[0;34m\u001b[0m\u001b[0m\n\u001b[0;32m----> 5\u001b[0;31m \u001b[0;32mfrom\u001b[0m \u001b[0mBio\u001b[0m \u001b[0;32mimport\u001b[0m \u001b[0mSeqIO\u001b[0m\u001b[0;34m\u001b[0m\u001b[0;34m\u001b[0m\u001b[0m\n\u001b[0m\u001b[1;32m      6\u001b[0m \u001b[0;32mimport\u001b[0m \u001b[0mnumpy\u001b[0m \u001b[0;32mas\u001b[0m \u001b[0mnp\u001b[0m\u001b[0;34m\u001b[0m\u001b[0;34m\u001b[0m\u001b[0m\n\u001b[1;32m      7\u001b[0m \u001b[0;34m\u001b[0m\u001b[0m\n",
            "\u001b[0;31mModuleNotFoundError\u001b[0m: No module named 'Bio'",
            "",
            "\u001b[0;31m---------------------------------------------------------------------------\u001b[0;32m\nNOTE: If your import is failing due to a missing package, you can\nmanually install dependencies using either !pip or !apt.\n\nTo view examples of installing some common dependencies, click the\n\"Open Examples\" button below.\n\u001b[0;31m---------------------------------------------------------------------------\u001b[0m\n"
          ],
          "errorDetails": {
            "actions": [
              {
                "action": "open_url",
                "actionText": "Open Examples",
                "url": "/notebooks/snippets/importing_libraries.ipynb"
              }
            ]
          }
        }
      ]
    },
    {
      "cell_type": "code",
      "source": [
        "# find motifs\n",
        "\n",
        "s = \"GGGCGTAATGGCGTAATGGGACGTAATGGGGTGCGTAATGCCGTCCCGTAATGCGTAATGCGTAATGCGGGTGCCCGTAATGGATCTCCGTAATGCCTCGTAATGGTGTCGTAATGAGTGATCGTAATGCCGTAATGCGTAATGCGTAATGCGTAATGAACGTAATGGGCCGTAATGCGTAATGCCGTAATGAGAGACCGTAATGCCGTAATGGGATCTTATCGTAATGATACGGCCGTAATGGACGTAATGAGACCGTAATGCGTAATGGCTTTTCGTAATGCGTAATGGCGTAATGCGTAATGTACGTAATGCGTAATGACGTAATGCCGTAATGACGTAATGCGTAATGCGTAATGCGTAATGCGTAATGTAAGCGTAATGACGTAATGTCGCGTTTAGTCGTAATGGAACGTAATGATCCCACCTCAACGTAATGTTCTCGTAATGGTGGGAACGTAATGAGACCGTAATGGTCGTAATGTGGCGTAATGACCCGTAATGCGTAATGGACGTAATGTTTCGTAATGACGTAATGACACGTAATGCCGTAATGCGTAATGCGTAATGAAAAGGCGTAATGCGTAATGCAGGACTACCGTAATGCGTAATGGCGTAATGCTCCGTAATGCTTACTCCGTAATGCGTAATGCCGTAATGCGTAATGACCGTAATGCGTAATGAGACCGTAATGCGTAATGGCTATGCGTAATGTACGTAATGGCGTAATGGCGTAATGTGACGTAATGAGTCGTAATGCGTAATGCCGTAATGTCCGTAATGAGCGACGTAATGGACGTAATGCGTAATGGCGTAATGAACGTAATGCGTAATGCGTAATGTAAGGCGGTACTTCGTAATGCCAATCGAGTCGTAATGTGGACGTAATGGCC\"\n",
        "t = \"CGTAATGCG\"\n",
        "s.index(t)\n",
        "\n",
        "for i in range(len(s)- len(t)+1) :\n",
        "  subs = ''\n",
        "  for j in range(len(t)):\n",
        "    subs = subs + s[i+j]\n",
        "  if subs == t :\n",
        "    print(i+1)\n",
        "\n"
      ],
      "metadata": {
        "colab": {
          "base_uri": "https://localhost:8080/"
        },
        "id": "5AiqhQrEEk2O",
        "outputId": "f556c87b-bd76-4e74-f04f-e37f0df64cc2"
      },
      "execution_count": 18,
      "outputs": [
        {
          "output_type": "stream",
          "name": "stdout",
          "text": [
            "47\n",
            "54\n",
            "61\n",
            "131\n",
            "138\n",
            "145\n",
            "171\n",
            "257\n",
            "277\n",
            "292\n",
            "308\n",
            "339\n",
            "346\n",
            "353\n",
            "360\n",
            "498\n",
            "550\n",
            "557\n",
            "577\n",
            "600\n",
            "639\n",
            "654\n",
            "670\n",
            "688\n",
            "753\n",
            "798\n",
            "822\n",
            "829\n"
          ]
        }
      ]
    },
    {
      "cell_type": "code",
      "source": [
        "# try recursion\n",
        "import numpy as np\n",
        "import pandas\n",
        "def facto(x) -> int :\n",
        "  #print(\"x is \", x)\n",
        "  if (x == 0 or x == 1) :\n",
        "    return x\n",
        "  else :\n",
        "    return (x * facto(x-1))\n",
        "\n",
        "facto(5)\n",
        "\n",
        "\n",
        "def fibo(x) -> int :\n",
        "  #print(x)\n",
        "  if (x == 1 or x == 0) :\n",
        "    return (x)\n",
        "  else :\n",
        "    return (fibo(x-1) + fibo(x-2))\n",
        "\n",
        "print(\"fiborec\")\n",
        "%time fibo(15)\n",
        "\n",
        "# try same with DP\n",
        "\n",
        "def fibodp(x) -> int :\n",
        "  vcurr = 1\n",
        "  vprev = 1\n",
        "  for i in range(x - 1) :\n",
        "    tmp = vcurr\n",
        "    vcurr = vcurr + vprev\n",
        "    vprev = tmp\n",
        "  return (vcurr)\n",
        "print(\"fibodp\")\n",
        "%time fibodp(15)\n",
        "\n",
        "\n",
        "\n"
      ],
      "metadata": {
        "colab": {
          "base_uri": "https://localhost:8080/"
        },
        "id": "deDwnx0vBA9q",
        "outputId": "02d4995c-13c8-40dc-ab3f-e1b7c69f04f4"
      },
      "execution_count": 4,
      "outputs": [
        {
          "output_type": "stream",
          "name": "stdout",
          "text": [
            "fiborec\n",
            "CPU times: user 579 µs, sys: 0 ns, total: 579 µs\n",
            "Wall time: 587 µs\n",
            "fibodp\n",
            "CPU times: user 9 µs, sys: 0 ns, total: 9 µs\n",
            "Wall time: 11.7 µs\n"
          ]
        },
        {
          "output_type": "execute_result",
          "data": {
            "text/plain": [
              "987"
            ]
          },
          "metadata": {},
          "execution_count": 4
        }
      ]
    },
    {
      "cell_type": "code",
      "source": [
        "# rabbit problem\n",
        "# Each month, total rabbit pairs alive = newborn rabbit pairs + adult rabbit pairs that gave birth to them, each adult rabbit pair has k babies\n",
        "# Month 0 = 1 infant\n",
        "# Month 1 = 1 adult\n",
        "# Month 2 = 1 adult + 1*3 infants\n",
        "# Month 3 = 3 adults(from infants) + Month 1(1 adult(carry over)  1*3 infants)\n",
        "# Month 4 = 3 adults(from infants)  + 4 adults(carried over) + 4*3 infants\n",
        "\n",
        "# Month n = Month n-1 + k*(Month n-2)\n",
        "\n",
        "\n",
        "def rabbits(m, k) -> int :\n",
        "  m_nminus1 = 1\n",
        "  m_nminus2 = 1\n",
        "  for i in range(m-1) :\n",
        "    temp = m_nminus1\n",
        "    m_nminus1 = m_nminus1 + k*m_nminus2\n",
        "    m_nminus2 = temp\n",
        "\n",
        "  return m_nminus1\n",
        "\n",
        "rabbits(29,2)\n"
      ],
      "metadata": {
        "colab": {
          "base_uri": "https://localhost:8080/"
        },
        "id": "OMaQtiaqzSiR",
        "outputId": "7c30be8d-7cb0-4758-f916-c18e0e100c85"
      },
      "execution_count": 1,
      "outputs": [
        {
          "output_type": "execute_result",
          "data": {
            "text/plain": [
              "357913941"
            ]
          },
          "metadata": {},
          "execution_count": 1
        }
      ]
    },
    {
      "cell_type": "code",
      "source": [
        "# Same rabbit problem (but Fibonacci without the k) but with rabbits dying after m months\n",
        "# Lets try memoization for this?\n",
        "# Build out the full array\n",
        "import numpy as np\n",
        "\n",
        "def mortal_rabbits(n, m):\n",
        "  print(\"n,m = \", n, m)\n",
        "  rabbits = np.zeros(n + 1, dtype=np.int64)\n",
        "  rabbits[0] = 1\n",
        "  rabbits[1] = 1\n",
        "\n",
        "  for j in range(2,m):\n",
        "    rabbits[j] = rabbits[j - 1] + rabbits[j - 2]\n",
        "\n",
        "\n",
        "  for i in range(m, n):\n",
        "    if (i - m - 1 ) < 0 :\n",
        "      rabbits[i] = rabbits[i - 1] + rabbits[i - 2] - rabbits[0]\n",
        "    else :\n",
        "      rabbits[i] = rabbits[i - 1] + rabbits[i - 2] - rabbits[i-m-1]\n",
        "    #print (\"i is \", i, \", rabbits = \", rabbits, \" and rabbits[i] = \", rabbits[i], \"\\n\\n\")\n",
        "  return rabbits[n-1]\n",
        "\n",
        "result = mortal_rabbits(90,20)\n",
        "print(result)\n",
        "### THIS DROVE ME INSANE!!!!! ####"
      ],
      "metadata": {
        "colab": {
          "base_uri": "https://localhost:8080/"
        },
        "id": "xsL4xKpZu2V1",
        "outputId": "c24b0857-b323-465b-8115-dd56de3e874c"
      },
      "execution_count": 72,
      "outputs": [
        {
          "output_type": "stream",
          "name": "stdout",
          "text": [
            "n,m =  90 20\n",
            "2873957992832138936\n"
          ]
        }
      ]
    },
    {
      "cell_type": "code",
      "source": [
        "from re import X\n",
        "from itertools import permutations\n",
        "import numpy as np\n",
        "\n",
        "perm = permutations(range(1,8))\n",
        "arr1 = list(perm)[15]\n",
        "\n",
        "# Print the obtained permutations\n",
        "#for i in list(perm):\n",
        "#    print (i)\n",
        "#[5,4,2,1,3]\n",
        "\n",
        "import array\n",
        "\n",
        "\n",
        "def lis(arr):\n",
        "    n = len(arr)\n",
        "\n",
        "    # Declare the list (array) for LIS and\n",
        "    # initialize LIS values for all indexes\n",
        "    longest_in = [1]*n\n",
        "\n",
        "    ar = [[] *n ]\n",
        "\n",
        "    for i in range(1, n):\n",
        "        print(\"i = \", i)\n",
        "        x = [min(arr[:i])]\n",
        "\n",
        "        for j in arr[i:] :\n",
        "          print(\"before x =\", x, \"arr[i:] = \", arr[i:], \"j = \", j)\n",
        "          if j >= max(x) :\n",
        "            x.append(j)\n",
        "        ar.append(x)\n",
        "        print(\"after x = \", x)\n",
        "\n",
        "\n",
        "    print(ar)\n",
        "\n",
        "    longest = []\n",
        "    for i in range(len(ar)) :\n",
        "      if (len(ar[i]) >= len(longest)) :\n",
        "        longest = ar[i]\n",
        "\n",
        "    return(longest)\n",
        "\n",
        "\n",
        "\n",
        "\n",
        "lis([8, 2, -1, 1, -20, 168, 3, 5, 6,7, 4, 3, 9,21])\n",
        "\n",
        "\n",
        "\n"
      ],
      "metadata": {
        "colab": {
          "base_uri": "https://localhost:8080/"
        },
        "id": "YBL66eVSI_xv",
        "outputId": "47aa3e5f-2f3f-4ad3-d35f-7db553b37050"
      },
      "execution_count": 268,
      "outputs": [
        {
          "output_type": "stream",
          "name": "stdout",
          "text": [
            "i =  1\n",
            "before x = [8] arr[i:] =  [2, -1, 1, -20, 168, 3, 5, 6, 7, 4, 3, 9, 21] j =  2\n",
            "before x = [8] arr[i:] =  [2, -1, 1, -20, 168, 3, 5, 6, 7, 4, 3, 9, 21] j =  -1\n",
            "before x = [8] arr[i:] =  [2, -1, 1, -20, 168, 3, 5, 6, 7, 4, 3, 9, 21] j =  1\n",
            "before x = [8] arr[i:] =  [2, -1, 1, -20, 168, 3, 5, 6, 7, 4, 3, 9, 21] j =  -20\n",
            "before x = [8] arr[i:] =  [2, -1, 1, -20, 168, 3, 5, 6, 7, 4, 3, 9, 21] j =  168\n",
            "before x = [8, 168] arr[i:] =  [2, -1, 1, -20, 168, 3, 5, 6, 7, 4, 3, 9, 21] j =  3\n",
            "before x = [8, 168] arr[i:] =  [2, -1, 1, -20, 168, 3, 5, 6, 7, 4, 3, 9, 21] j =  5\n",
            "before x = [8, 168] arr[i:] =  [2, -1, 1, -20, 168, 3, 5, 6, 7, 4, 3, 9, 21] j =  6\n",
            "before x = [8, 168] arr[i:] =  [2, -1, 1, -20, 168, 3, 5, 6, 7, 4, 3, 9, 21] j =  7\n",
            "before x = [8, 168] arr[i:] =  [2, -1, 1, -20, 168, 3, 5, 6, 7, 4, 3, 9, 21] j =  4\n",
            "before x = [8, 168] arr[i:] =  [2, -1, 1, -20, 168, 3, 5, 6, 7, 4, 3, 9, 21] j =  3\n",
            "before x = [8, 168] arr[i:] =  [2, -1, 1, -20, 168, 3, 5, 6, 7, 4, 3, 9, 21] j =  9\n",
            "before x = [8, 168] arr[i:] =  [2, -1, 1, -20, 168, 3, 5, 6, 7, 4, 3, 9, 21] j =  21\n",
            "after x =  [8, 168]\n",
            "i =  2\n",
            "before x = [2] arr[i:] =  [-1, 1, -20, 168, 3, 5, 6, 7, 4, 3, 9, 21] j =  -1\n",
            "before x = [2] arr[i:] =  [-1, 1, -20, 168, 3, 5, 6, 7, 4, 3, 9, 21] j =  1\n",
            "before x = [2] arr[i:] =  [-1, 1, -20, 168, 3, 5, 6, 7, 4, 3, 9, 21] j =  -20\n",
            "before x = [2] arr[i:] =  [-1, 1, -20, 168, 3, 5, 6, 7, 4, 3, 9, 21] j =  168\n",
            "before x = [2, 168] arr[i:] =  [-1, 1, -20, 168, 3, 5, 6, 7, 4, 3, 9, 21] j =  3\n",
            "before x = [2, 168] arr[i:] =  [-1, 1, -20, 168, 3, 5, 6, 7, 4, 3, 9, 21] j =  5\n",
            "before x = [2, 168] arr[i:] =  [-1, 1, -20, 168, 3, 5, 6, 7, 4, 3, 9, 21] j =  6\n",
            "before x = [2, 168] arr[i:] =  [-1, 1, -20, 168, 3, 5, 6, 7, 4, 3, 9, 21] j =  7\n",
            "before x = [2, 168] arr[i:] =  [-1, 1, -20, 168, 3, 5, 6, 7, 4, 3, 9, 21] j =  4\n",
            "before x = [2, 168] arr[i:] =  [-1, 1, -20, 168, 3, 5, 6, 7, 4, 3, 9, 21] j =  3\n",
            "before x = [2, 168] arr[i:] =  [-1, 1, -20, 168, 3, 5, 6, 7, 4, 3, 9, 21] j =  9\n",
            "before x = [2, 168] arr[i:] =  [-1, 1, -20, 168, 3, 5, 6, 7, 4, 3, 9, 21] j =  21\n",
            "after x =  [2, 168]\n",
            "i =  3\n",
            "before x = [-1] arr[i:] =  [1, -20, 168, 3, 5, 6, 7, 4, 3, 9, 21] j =  1\n",
            "before x = [-1, 1] arr[i:] =  [1, -20, 168, 3, 5, 6, 7, 4, 3, 9, 21] j =  -20\n",
            "before x = [-1, 1] arr[i:] =  [1, -20, 168, 3, 5, 6, 7, 4, 3, 9, 21] j =  168\n",
            "before x = [-1, 1, 168] arr[i:] =  [1, -20, 168, 3, 5, 6, 7, 4, 3, 9, 21] j =  3\n",
            "before x = [-1, 1, 168] arr[i:] =  [1, -20, 168, 3, 5, 6, 7, 4, 3, 9, 21] j =  5\n",
            "before x = [-1, 1, 168] arr[i:] =  [1, -20, 168, 3, 5, 6, 7, 4, 3, 9, 21] j =  6\n",
            "before x = [-1, 1, 168] arr[i:] =  [1, -20, 168, 3, 5, 6, 7, 4, 3, 9, 21] j =  7\n",
            "before x = [-1, 1, 168] arr[i:] =  [1, -20, 168, 3, 5, 6, 7, 4, 3, 9, 21] j =  4\n",
            "before x = [-1, 1, 168] arr[i:] =  [1, -20, 168, 3, 5, 6, 7, 4, 3, 9, 21] j =  3\n",
            "before x = [-1, 1, 168] arr[i:] =  [1, -20, 168, 3, 5, 6, 7, 4, 3, 9, 21] j =  9\n",
            "before x = [-1, 1, 168] arr[i:] =  [1, -20, 168, 3, 5, 6, 7, 4, 3, 9, 21] j =  21\n",
            "after x =  [-1, 1, 168]\n",
            "i =  4\n",
            "before x = [-1] arr[i:] =  [-20, 168, 3, 5, 6, 7, 4, 3, 9, 21] j =  -20\n",
            "before x = [-1] arr[i:] =  [-20, 168, 3, 5, 6, 7, 4, 3, 9, 21] j =  168\n",
            "before x = [-1, 168] arr[i:] =  [-20, 168, 3, 5, 6, 7, 4, 3, 9, 21] j =  3\n",
            "before x = [-1, 168] arr[i:] =  [-20, 168, 3, 5, 6, 7, 4, 3, 9, 21] j =  5\n",
            "before x = [-1, 168] arr[i:] =  [-20, 168, 3, 5, 6, 7, 4, 3, 9, 21] j =  6\n",
            "before x = [-1, 168] arr[i:] =  [-20, 168, 3, 5, 6, 7, 4, 3, 9, 21] j =  7\n",
            "before x = [-1, 168] arr[i:] =  [-20, 168, 3, 5, 6, 7, 4, 3, 9, 21] j =  4\n",
            "before x = [-1, 168] arr[i:] =  [-20, 168, 3, 5, 6, 7, 4, 3, 9, 21] j =  3\n",
            "before x = [-1, 168] arr[i:] =  [-20, 168, 3, 5, 6, 7, 4, 3, 9, 21] j =  9\n",
            "before x = [-1, 168] arr[i:] =  [-20, 168, 3, 5, 6, 7, 4, 3, 9, 21] j =  21\n",
            "after x =  [-1, 168]\n",
            "i =  5\n",
            "before x = [-20] arr[i:] =  [168, 3, 5, 6, 7, 4, 3, 9, 21] j =  168\n",
            "before x = [-20, 168] arr[i:] =  [168, 3, 5, 6, 7, 4, 3, 9, 21] j =  3\n",
            "before x = [-20, 168] arr[i:] =  [168, 3, 5, 6, 7, 4, 3, 9, 21] j =  5\n",
            "before x = [-20, 168] arr[i:] =  [168, 3, 5, 6, 7, 4, 3, 9, 21] j =  6\n",
            "before x = [-20, 168] arr[i:] =  [168, 3, 5, 6, 7, 4, 3, 9, 21] j =  7\n",
            "before x = [-20, 168] arr[i:] =  [168, 3, 5, 6, 7, 4, 3, 9, 21] j =  4\n",
            "before x = [-20, 168] arr[i:] =  [168, 3, 5, 6, 7, 4, 3, 9, 21] j =  3\n",
            "before x = [-20, 168] arr[i:] =  [168, 3, 5, 6, 7, 4, 3, 9, 21] j =  9\n",
            "before x = [-20, 168] arr[i:] =  [168, 3, 5, 6, 7, 4, 3, 9, 21] j =  21\n",
            "after x =  [-20, 168]\n",
            "i =  6\n",
            "before x = [-20] arr[i:] =  [3, 5, 6, 7, 4, 3, 9, 21] j =  3\n",
            "before x = [-20, 3] arr[i:] =  [3, 5, 6, 7, 4, 3, 9, 21] j =  5\n",
            "before x = [-20, 3, 5] arr[i:] =  [3, 5, 6, 7, 4, 3, 9, 21] j =  6\n",
            "before x = [-20, 3, 5, 6] arr[i:] =  [3, 5, 6, 7, 4, 3, 9, 21] j =  7\n",
            "before x = [-20, 3, 5, 6, 7] arr[i:] =  [3, 5, 6, 7, 4, 3, 9, 21] j =  4\n",
            "before x = [-20, 3, 5, 6, 7] arr[i:] =  [3, 5, 6, 7, 4, 3, 9, 21] j =  3\n",
            "before x = [-20, 3, 5, 6, 7] arr[i:] =  [3, 5, 6, 7, 4, 3, 9, 21] j =  9\n",
            "before x = [-20, 3, 5, 6, 7, 9] arr[i:] =  [3, 5, 6, 7, 4, 3, 9, 21] j =  21\n",
            "after x =  [-20, 3, 5, 6, 7, 9, 21]\n",
            "i =  7\n",
            "before x = [-20] arr[i:] =  [5, 6, 7, 4, 3, 9, 21] j =  5\n",
            "before x = [-20, 5] arr[i:] =  [5, 6, 7, 4, 3, 9, 21] j =  6\n",
            "before x = [-20, 5, 6] arr[i:] =  [5, 6, 7, 4, 3, 9, 21] j =  7\n",
            "before x = [-20, 5, 6, 7] arr[i:] =  [5, 6, 7, 4, 3, 9, 21] j =  4\n",
            "before x = [-20, 5, 6, 7] arr[i:] =  [5, 6, 7, 4, 3, 9, 21] j =  3\n",
            "before x = [-20, 5, 6, 7] arr[i:] =  [5, 6, 7, 4, 3, 9, 21] j =  9\n",
            "before x = [-20, 5, 6, 7, 9] arr[i:] =  [5, 6, 7, 4, 3, 9, 21] j =  21\n",
            "after x =  [-20, 5, 6, 7, 9, 21]\n",
            "i =  8\n",
            "before x = [-20] arr[i:] =  [6, 7, 4, 3, 9, 21] j =  6\n",
            "before x = [-20, 6] arr[i:] =  [6, 7, 4, 3, 9, 21] j =  7\n",
            "before x = [-20, 6, 7] arr[i:] =  [6, 7, 4, 3, 9, 21] j =  4\n",
            "before x = [-20, 6, 7] arr[i:] =  [6, 7, 4, 3, 9, 21] j =  3\n",
            "before x = [-20, 6, 7] arr[i:] =  [6, 7, 4, 3, 9, 21] j =  9\n",
            "before x = [-20, 6, 7, 9] arr[i:] =  [6, 7, 4, 3, 9, 21] j =  21\n",
            "after x =  [-20, 6, 7, 9, 21]\n",
            "i =  9\n",
            "before x = [-20] arr[i:] =  [7, 4, 3, 9, 21] j =  7\n",
            "before x = [-20, 7] arr[i:] =  [7, 4, 3, 9, 21] j =  4\n",
            "before x = [-20, 7] arr[i:] =  [7, 4, 3, 9, 21] j =  3\n",
            "before x = [-20, 7] arr[i:] =  [7, 4, 3, 9, 21] j =  9\n",
            "before x = [-20, 7, 9] arr[i:] =  [7, 4, 3, 9, 21] j =  21\n",
            "after x =  [-20, 7, 9, 21]\n",
            "i =  10\n",
            "before x = [-20] arr[i:] =  [4, 3, 9, 21] j =  4\n",
            "before x = [-20, 4] arr[i:] =  [4, 3, 9, 21] j =  3\n",
            "before x = [-20, 4] arr[i:] =  [4, 3, 9, 21] j =  9\n",
            "before x = [-20, 4, 9] arr[i:] =  [4, 3, 9, 21] j =  21\n",
            "after x =  [-20, 4, 9, 21]\n",
            "i =  11\n",
            "before x = [-20] arr[i:] =  [3, 9, 21] j =  3\n",
            "before x = [-20, 3] arr[i:] =  [3, 9, 21] j =  9\n",
            "before x = [-20, 3, 9] arr[i:] =  [3, 9, 21] j =  21\n",
            "after x =  [-20, 3, 9, 21]\n",
            "i =  12\n",
            "before x = [-20] arr[i:] =  [9, 21] j =  9\n",
            "before x = [-20, 9] arr[i:] =  [9, 21] j =  21\n",
            "after x =  [-20, 9, 21]\n",
            "i =  13\n",
            "before x = [-20] arr[i:] =  [21] j =  21\n",
            "after x =  [-20, 21]\n",
            "[[], [8, 168], [2, 168], [-1, 1, 168], [-1, 168], [-20, 168], [-20, 3, 5, 6, 7, 9, 21], [-20, 5, 6, 7, 9, 21], [-20, 6, 7, 9, 21], [-20, 7, 9, 21], [-20, 4, 9, 21], [-20, 3, 9, 21], [-20, 9, 21], [-20, 21]]\n"
          ]
        },
        {
          "output_type": "execute_result",
          "data": {
            "text/plain": [
              "[-20, 3, 5, 6, 7, 9, 21]"
            ]
          },
          "metadata": {},
          "execution_count": 268
        }
      ]
    },
    {
      "cell_type": "code",
      "source": [
        "\n",
        "\n",
        "def lds(arr) :\n",
        "\n",
        "    n = len(arr)\n",
        "    ar = [[] *n ]\n",
        "    for i in range(1,n) :\n",
        "        print(\"i = \", i)\n",
        "        x = [max(arr[:i])]\n",
        "        print(\"before x =\", x, \"arr[i+1:] = \", arr[i+1:])\n",
        "        for j in arr[i+1:] :\n",
        "          if j <= min(x) :\n",
        "            x.append(j)\n",
        "        ar.append(x)\n",
        "        print(\"after x = \", x)\n",
        "\n",
        "\n",
        "    print(ar)\n",
        "\n",
        "    longest = []\n",
        "    for i in range(len(ar)) :\n",
        "      if (len(ar[i]) > len(longest)) :\n",
        "        longest = ar[i]\n",
        "\n",
        "    return(longest)\n",
        "\n",
        "\n",
        "\n",
        "lds([8, 2, -1, 1, -20, 168, 3, 5, 6,7, 4, 3, 9,21])"
      ],
      "metadata": {
        "colab": {
          "base_uri": "https://localhost:8080/"
        },
        "id": "XW_wkR2fJ-Fz",
        "outputId": "ad25e188-afb3-4eba-85d9-94155a376f02"
      },
      "execution_count": 267,
      "outputs": [
        {
          "output_type": "stream",
          "name": "stdout",
          "text": [
            "i =  1\n",
            "before x = [8] arr[i+1:] =  [-1, 1, -20, 168, 3, 5, 6, 7, 4, 3, 9, 21]\n",
            "after x =  [8, -1, -20]\n",
            "i =  2\n",
            "before x = [8] arr[i+1:] =  [1, -20, 168, 3, 5, 6, 7, 4, 3, 9, 21]\n",
            "after x =  [8, 1, -20]\n",
            "i =  3\n",
            "before x = [8] arr[i+1:] =  [-20, 168, 3, 5, 6, 7, 4, 3, 9, 21]\n",
            "after x =  [8, -20]\n",
            "i =  4\n",
            "before x = [8] arr[i+1:] =  [168, 3, 5, 6, 7, 4, 3, 9, 21]\n",
            "after x =  [8, 3, 3]\n",
            "i =  5\n",
            "before x = [8] arr[i+1:] =  [3, 5, 6, 7, 4, 3, 9, 21]\n",
            "after x =  [8, 3, 3]\n",
            "i =  6\n",
            "before x = [168] arr[i+1:] =  [5, 6, 7, 4, 3, 9, 21]\n",
            "after x =  [168, 5, 4, 3]\n",
            "i =  7\n",
            "before x = [168] arr[i+1:] =  [6, 7, 4, 3, 9, 21]\n",
            "after x =  [168, 6, 4, 3]\n",
            "i =  8\n",
            "before x = [168] arr[i+1:] =  [7, 4, 3, 9, 21]\n",
            "after x =  [168, 7, 4, 3]\n",
            "i =  9\n",
            "before x = [168] arr[i+1:] =  [4, 3, 9, 21]\n",
            "after x =  [168, 4, 3]\n",
            "i =  10\n",
            "before x = [168] arr[i+1:] =  [3, 9, 21]\n",
            "after x =  [168, 3]\n",
            "i =  11\n",
            "before x = [168] arr[i+1:] =  [9, 21]\n",
            "after x =  [168, 9]\n",
            "i =  12\n",
            "before x = [168] arr[i+1:] =  [21]\n",
            "after x =  [168, 21]\n",
            "i =  13\n",
            "before x = [168] arr[i+1:] =  []\n",
            "after x =  [168]\n",
            "[[], [8, -1, -20], [8, 1, -20], [8, -20], [8, 3, 3], [8, 3, 3], [168, 5, 4, 3], [168, 6, 4, 3], [168, 7, 4, 3], [168, 4, 3], [168, 3], [168, 9], [168, 21], [168]]\n"
          ]
        },
        {
          "output_type": "execute_result",
          "data": {
            "text/plain": [
              "[168, 5, 4, 3]"
            ]
          },
          "metadata": {},
          "execution_count": 267
        }
      ]
    }
  ]
}